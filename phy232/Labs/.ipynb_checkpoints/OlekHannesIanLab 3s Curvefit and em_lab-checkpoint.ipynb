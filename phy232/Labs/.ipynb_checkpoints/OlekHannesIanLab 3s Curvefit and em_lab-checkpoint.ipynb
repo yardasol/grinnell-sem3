{
 "cells": [
  {
   "cell_type": "code",
   "execution_count": 2,
   "metadata": {},
   "outputs": [
    {
     "name": "stdout",
     "output_type": "stream",
     "text": [
      "Populating the interactive namespace from numpy and matplotlib\n"
     ]
    }
   ],
   "source": [
    "# I'm always first. Don't forget to execute me! \n",
    "%pylab inline"
   ]
  },
  {
   "cell_type": "markdown",
   "metadata": {},
   "source": [
    "## Modern Physics Lab 3 -- Simulated Data, Curve Fitting, and Another Look at e/m\n",
    "\n",
    "Welcome to the third week of lab for PHY232 -- Modern Physics. Last week, you learned to use Python to do math and make plots. Today, you will learn more techniques to interact with data. You'll learn how to create simulated data sets using functions and Gaussian noise generators. Then you will learn to fit those data to theory using Python's built-in curve fitting algorithm. You will acquire a new set of e/m data in which you find the electric force needed to cancel the magnetic force exerted by the Helmholtz coils\n",
    "\n",
    "As before, we have lab stations set up around the lab. One station has a set of Helmholtz coils and a magnetometer, so you can measure the uniformity of the magnetic field and its dependence on coil separation. One station has the same setup as last week in case someone needs more data. The other three setups are set up to generate crossed electric and magnetic fields so you can determine e/m from the field values at which the forces cancel\n",
    "\n",
    "## Objectives\n",
    "In this lab, you will \n",
    "\n",
    "* learn logic, conditionals, loops, and functions;\n",
    "* generate and scale Gaussian noise;\n",
    "* determine unknown coefficients by fitting data to a function;\n",
    "* and measure e/m in another way.\n",
    "\n",
    "## New programming tools\n",
    "\n",
    "### Logic and conditional statements\n",
    "\n",
    "In order to write useful code, you will want to have your program behave differently in different situtations. To accomplish this, your program will 1) need to be able to evaluate whether certain conditions are satisfied and 2) evaluate different code depending on the whether they are or are not satisfied.\n",
    "\n",
    "Logical and comparison operators test allow us to test whether variables satisfy certain conditions. Comparison between two or more variables can be made using the following symbols\n",
    "* \\>, < (\"greater than\" and \"less than\") \n",
    "* \\>=, <= (\"greater than or equal to\" and \"less than or equal to\"\n",
    "* ==, != (\"equal to\" or \"not equal to\") Note that a single equals sign assigns the value of the variable on the right to the variable on the left. Two equal signs are needed for a comparison.\n",
    "\n",
    "Multiple conditions can be combined together using\n",
    "* and (if both the operands are true then condition becomes true)\n",
    "* or (if any of the two operands are true then condition becomes true) and \n",
    "* not (used to reverse the logical state of its operand, for instance, a true statement becomes false.)\n",
    "\n",
    "Parentheses may be used to specify the order of operations."
   ]
  },
  {
   "cell_type": "code",
   "execution_count": 3,
   "metadata": {},
   "outputs": [
    {
     "name": "stdout",
     "output_type": "stream",
     "text": [
      "False True\n",
      "True\n",
      "True\n",
      "False\n",
      "True True False False\n",
      "True\n"
     ]
    }
   ],
   "source": [
    "# Examples of how to use conditional statements\n",
    "##### DO THIS: before running this cell, predict the outcomes of each of the statements.\n",
    "\n",
    "a = 10\n",
    "b = 20\n",
    "c = 30\n",
    "\n",
    "print(a == b, a <= b) # Comparisons are used to test whether a equals b, also whether a is less than or equal to b\n",
    "print(a < b and b < c) # Tests whether a is less than b and b is less than c\n",
    "print((a < b) or (c < b)) # Tests whether either a or c is less than b\n",
    "print((a < b) and not(b < c)) # Tests whether a is less than b and b is not less than c\n",
    "print(not False, not 0, not True, not 1) # The number \"zero\" evaluates to false and the number \"one\" evaluates to true.\n",
    "print(not (False and a < 20))\n",
    "\n",
    "##### DO THIS: change the values of a, b, and c and then rerun this cell."
   ]
  },
  {
   "cell_type": "markdown",
   "metadata": {},
   "source": [
    "Once your program has evaluated whether a condition is true or false, it must make a decision to execute different code. This is done using *if* and *if ... else* statements, as shown below. In these statements, the condition (e.g. a == 10) is separated from the outcome by a colon and indentation is used to separate the code inside the if statement from the rest of the code.\n",
    "\n",
    "if statement\n",
    "> if expression:\n",
    "\n",
    "> &nbsp;&nbsp;&nbsp;&nbsp;&nbsp;&nbsp;  statement(s)\n",
    "\n",
    "if ... else statement\n",
    "> if expression:\n",
    "\n",
    "> &nbsp;&nbsp;&nbsp;&nbsp;&nbsp;&nbsp;  statement(s)\n",
    "\n",
    "> else:\n",
    "\n",
    "> &nbsp;&nbsp;&nbsp;&nbsp;&nbsp;&nbsp;  statement(s)"
   ]
  },
  {
   "cell_type": "code",
   "execution_count": 4,
   "metadata": {},
   "outputs": [
    {
     "name": "stdout",
     "output_type": "stream",
     "text": [
      "a equals 10\n",
      "a equals 10\n",
      "hooray\n",
      "name1 is not Carlos.\n",
      "Who is it?\n",
      "name1 is Alice\n",
      "Alice and Bob are both here.\n"
     ]
    }
   ],
   "source": [
    "# Examples of \"if\" and \"if ... else\" statements.\n",
    "##### DO THIS: before running this cell, predict the outcomes of each of the statements.\n",
    "\n",
    "a = 10\n",
    "\n",
    "# If the outcome consists of only a single line of code, it may go on the same line as the if statement.    \n",
    "if a == 10 : print(\"a equals 10\") \n",
    "\n",
    "# If the outcome consists of multiple lines of code, it is separated from the rest of the code by indentation.\n",
    "if a == 10 : \n",
    "    print(\"a equals 10\") \n",
    "    print(\"hooray\")\n",
    "\n",
    "#Once the if statement is done, the left-justification of the code returns to as it was before.\n",
    "name1 = \"Alice\"\n",
    "\n",
    "#\"if ... else\" statements allow the programmer to specify an outcome if the condition is not met.\n",
    "if name1 == \"Carlos\" : print(\"name1 is Carlos\") \n",
    "else : \n",
    "    print(\"name1 is not Carlos.\")\n",
    "    print(\"Who is it?\")\n",
    "    \n",
    "# \"elif\" can be used to check multiple conditions. \n",
    "if name1 == \"Carlos\" : print(\"name1 is Carlos\") \n",
    "elif name1 == \"Alice\" : print(\"name1 is Alice\") \n",
    "else : \n",
    "    print(\"name1 is not Carlos or Alice.\")\n",
    "    print(\"Who is it?\")\n",
    "#Note that if the if statement evaluates to \"true\" the \"elif\" statement will not be evaluated.\n",
    "    \n",
    "#Multiple if and if...else statements may be nested together to create more complex conditionals.\n",
    "name2 = \"Bob\"\n",
    "if name1 == \"Alice\" :\n",
    "    if name2 == \"Bob\" : print(\"Alice and Bob are both here.\")\n",
    "    else : print(\"Alice is here but where is Bob?\")\n",
    "else : print(\"We are missing Alice.\")\n",
    "    \n",
    "##### DO THIS: change the values of a, name1, and name2 and reevaluate this cell."
   ]
  },
  {
   "cell_type": "markdown",
   "metadata": {},
   "source": [
    "#### Exercise 3.1\n",
    "\n",
    "In the cell below, use nested if else statements to write code that will compare three variables, a, b and c, and produce the following outcomes: \n",
    "* print \"a is False\" if a equals 0; \n",
    "* print \"a is the greatest\" if a is not equal to zero and a is greater than b and c; \n",
    "* and print \"a is less than or equal to b or c\" and print the values of each of the variables if a is less than or equal to either b or c. \n",
    "\n",
    "Set a, b and c equal to different values to test that your code produces the expected results."
   ]
  },
  {
   "cell_type": "code",
   "execution_count": 5,
   "metadata": {},
   "outputs": [
    {
     "name": "stdout",
     "output_type": "stream",
     "text": [
      "a is less than or equal to b or c\n"
     ]
    }
   ],
   "source": [
    "# Exercise 3.1\n",
    "a = 100\n",
    "b = 120\n",
    "c = 30\n",
    "\n",
    "##### Your code here\n",
    "if a==0: print(\"a is False\")\n",
    "elif a!=0 and a>b and a>c: print(\"a is the greatest\")\n",
    "elif a<=b or a<=c: print(\"a is less than or equal to b or c\")"
   ]
  },
  {
   "cell_type": "markdown",
   "metadata": {},
   "source": [
    "### Loops\n",
    "\n",
    "In other situations, you will want your program to complete the same actions multiple times. Loops are the way to accomplish this sort of task.\n",
    "\n",
    "*For loops* enable you to iterate through each item in an array (or list or string). The syntax looks like\n",
    "\n",
    "> for iterating_var in sequence:\n",
    "\n",
    "> &nbsp;&nbsp;&nbsp;&nbsp;&nbsp;&nbsp; statement(s)\n",
    "\n",
    "As with if statements, the colon separates the statement(s) from the condition and indentation is used to separate the code inside the loop from that outside of it. An example is below."
   ]
  },
  {
   "cell_type": "code",
   "execution_count": 6,
   "metadata": {},
   "outputs": [
    {
     "name": "stdout",
     "output_type": "stream",
     "text": [
      "0\n",
      "1\n",
      "4\n",
      "9\n",
      "16\n",
      "25\n"
     ]
    }
   ],
   "source": [
    "# Example for loop\n",
    "##### DO THIS: before running this cell, predict the outcome.\n",
    "\n",
    "iterator = arange(0, 6, 1) #create an array from zero to five (inclusive) in steps of 1.\n",
    "\n",
    "for i in iterator:\n",
    "    print(i**2) #print the squared value of each element in the array\n"
   ]
  },
  {
   "cell_type": "markdown",
   "metadata": {},
   "source": [
    "Sometimes you will want to stop iterating (i.e., break out of the loop) before you have gone through each item in the array. A \"break\" statement inserted into the loop (typically used with an if statement) will do this for you, as shown below."
   ]
  },
  {
   "cell_type": "code",
   "execution_count": 7,
   "metadata": {},
   "outputs": [
    {
     "name": "stdout",
     "output_type": "stream",
     "text": [
      "0\n",
      "1\n",
      "4\n",
      "9\n"
     ]
    }
   ],
   "source": [
    "# Example for loop with a break\n",
    "##### DO THIS: before running this cell, predict the outcome.\n",
    "\n",
    "iterator = arange(0, 6, 1) #create an array from zero to five (inclusive) in steps of 1.\n",
    "\n",
    "for i in iterator:\n",
    "    if i**2 > 10 : break #if i squared is greater than 10, break out of the loop\n",
    "    print(i**2) #print the squared value of each element in the array\n"
   ]
  },
  {
   "cell_type": "markdown",
   "metadata": {},
   "source": [
    "There is much more that could be said about loops. For example, in addition to for loops, python also supports *while loops* (loops which are iterated until a condition is met instead of through an entire array). Loops can also be nested inside each other (similarly to if statements) to allow one to iterate through multiple variables at once. You are encouraged to research both of those ideas as they come up in lab, but for now you know enough to get started.\n",
    "\n",
    "#### Exercise 3.2\n",
    "\n",
    "Write a loop that will iterate through an array, outputting for each element in the array the sum of it and all previous elements. Break out of the loop if your sum ever exceeds 50. Test your loop on an array that goes from 0 to 20 in steps of two. You should find that it stops iterating when it reaches 56. \n",
    "\n",
    "*Hint*: consider defining a variable that will be updated inside of the loop."
   ]
  },
  {
   "cell_type": "code",
   "execution_count": 8,
   "metadata": {},
   "outputs": [
    {
     "name": "stdout",
     "output_type": "stream",
     "text": [
      "0\n",
      "2\n",
      "6\n",
      "12\n",
      "20\n",
      "30\n",
      "42\n"
     ]
    }
   ],
   "source": [
    "# Exercise 3.2\n",
    "#### Your code here\n",
    "h=0\n",
    "iterator= arange(0,21,2)\n",
    "for i in iterator:\n",
    "    h=h+i\n",
    "    if h>50 : break\n",
    "    print(h)\n",
    "    #it works!\n",
    "    \n",
    "    "
   ]
  },
  {
   "cell_type": "markdown",
   "metadata": {},
   "source": [
    "### Functions\n",
    "\n",
    "In other situations, you may want to repeat the same operations in different contexts. Defining your own functions allow you to do this without writing the same code over again. In programming, repetitive code is bad -- not only does repetition clutter your code, making it harder to read, repetition also makes your code harder to debug and harder to update. \n",
    "\n",
    "Python comes with a huge number of built-in functions, many of which you are already using (e.g. print(), arange(), linspace(), and len()). Each of these functions preforms some action and may return a value. For example, len() returns the length of the array. Functions frequently take parameters or arguments, which are listed inside the parentheses. For example, len() takes an array as its argument. Therefore, when I write\n",
    "\n",
    "> x = len(array)\n",
    "\n",
    "I am calling the function len() with the argument of *array*. The len() function does some magic to determine the number of elements in *array* and returns that value, which *x* is then set to. When you define your own functions, you will call them the same way.\n",
    "\n",
    "#### Defining a function\n",
    "\n",
    "Many times, python will not have a built-in function that accomplishes what you want so you will have to define your own function. To define a function, you must follow a specific form:\n",
    "\n",
    "* The function block begins with the keyword *def* followed by the function name and then a pair of parentheses. \n",
    "\n",
    "* Any input parameters or arguments are listed inside the parentheses. If the function does not take any parameters or arguments, the parentheses are left empty.\n",
    "\n",
    "* A colon separates the function header from the code block and the entire code block is indented.\n",
    "\n",
    "* The statement *return [expression]* exits a function, optionally passing back an expression to the caller. A return statement with no arguments is the same as returning nothing.\n",
    "\n",
    "As a result, your function will look like\n",
    "\n",
    "> def function_name ( parameters ) : \n",
    "\n",
    "> &nbsp;&nbsp;&nbsp;&nbsp;&nbsp;&nbsp; statement(s)\n",
    "\n",
    "> &nbsp;&nbsp;&nbsp;&nbsp;&nbsp;&nbsp; return [expression]\n",
    "\n",
    "and will be called like\n",
    "\n",
    "> function_name(parameters)"
   ]
  },
  {
   "cell_type": "code",
   "execution_count": 9,
   "metadata": {},
   "outputs": [
    {
     "name": "stdout",
     "output_type": "stream",
     "text": [
      "Hello Dave\n",
      "Hello Ian\n",
      "Hello Olek\n",
      "Hello Hannes\n"
     ]
    }
   ],
   "source": [
    "# Example of a simple user-defined functions\n",
    "\n",
    "def say_hello( name ): # Define the function \"say_hello\" that takes one argument, \"name\".\n",
    "    print(\"Hello\", name) \n",
    "    return # End the function and return nothing\n",
    "\n",
    "say_hello(\"Dave\")\n",
    "say_hello(\"Ian\")\n",
    "say_hello(\"Olek\")\n",
    "say_hello(\"Hannes\")\n",
    "\n",
    "#### DO THIS: add a line of code to call the say_hello function with your name\n"
   ]
  },
  {
   "cell_type": "code",
   "execution_count": 10,
   "metadata": {},
   "outputs": [
    {
     "data": {
      "text/plain": [
       "2.0549469166662027"
      ]
     },
     "execution_count": 10,
     "metadata": {},
     "output_type": "execute_result"
    }
   ],
   "source": [
    "# Example of a simple mathematical function\n",
    "\n",
    "def exponential_dk( x, a, b, c ): \n",
    "    return a + b * exp(-c*x)\n",
    "    \n",
    "# For a multiple line function, the indentation is important. If you unindent a line, it will be assumed not to\n",
    "# belong to the function!\n",
    "exponential_dk( 1, 2, 3, 4 )"
   ]
  },
  {
   "cell_type": "markdown",
   "metadata": {},
   "source": [
    "Ok, now let's use this function to generate a set of simulated data. We'll need to define the parameters we feed into a, b, and c, as well as a time-array, which we can make using linspace or arange. Afterwards let's plot it and see what we get."
   ]
  },
  {
   "cell_type": "code",
   "execution_count": 11,
   "metadata": {},
   "outputs": [
    {
     "data": {
      "text/plain": [
       "<matplotlib.text.Text at 0x111e44630>"
      ]
     },
     "execution_count": 11,
     "metadata": {},
     "output_type": "execute_result"
    },
    {
     "data": {
      "image/png": "[encoded data removed]",
      "text/plain": [
       "<matplotlib.figure.Figure at 0x10ea73518>"
      ]
     },
     "metadata": {},
     "output_type": "display_data"
    }
   ],
   "source": [
    "a_0 = 0.1\n",
    "b_0 = 10\n",
    "c_0 = 0.5\n",
    "Npoints = 10000\n",
    "time = linspace (0, 10, Npoints)\n",
    "\n",
    "y = exponential_dk( time, a_0, b_0, c_0)\n",
    "\n",
    "plt.figure(1)\n",
    "plt.plot(time,y)\n",
    "plt.xlabel(\"Time (s)\")\n",
    "plt.ylabel(\"Position (m)\")\n",
    "plt.title(\"Exponential decay of some object's position\")\n",
    "\n",
    "#### Exercise 3.3 Test this function by calling it with different arguments. "
   ]
  },
  {
   "cell_type": "markdown",
   "metadata": {},
   "source": [
    "Now let's try adding noise to the graph. We can use the numpy function random.normal(size), where the argument is the size of the array."
   ]
  },
  {
   "cell_type": "code",
   "execution_count": 12,
   "metadata": {},
   "outputs": [
    {
     "data": {
      "text/plain": [
       "<matplotlib.text.Text at 0x112001d68>"
      ]
     },
     "execution_count": 12,
     "metadata": {},
     "output_type": "execute_result"
    },
    {
     "data": {
      "image/png": "[encoded data removed]",
      "text/plain": [
       "<matplotlib.figure.Figure at 0x10ea7b0f0>"
      ]
     },
     "metadata": {},
     "output_type": "display_data"
    }
   ],
   "source": [
    "width = .1\n",
    "y_noise = random.normal(scale=width, size=len(time))\n",
    "y_new = y+y_noise\n",
    "plt.figure(2)\n",
    "plt.plot(time,y_new)\n",
    "plt.xlabel(\"Time (s)\")\n",
    "plt.ylabel(\"Position (m)\")\n",
    "plt.title(\"Noisy exponential decay of some object's position\")\n",
    "\n",
    "#### Exercise 3.4 Mess around with the scale factor to see the impact on your graph\n",
    "#Discuss here\n"
   ]
  },
  {
   "cell_type": "markdown",
   "metadata": {},
   "source": [
    "Well, great! We can take a nice curve and make it look noisy. But noisy data are inevitably what you find in the laboratory. This raises the question, can we determine the parameters a, b, and c from the noisy curve plotted above, and if so, what is the experimental uncertainty in those parameters. This calls for a nonlinear least squares fit, which sounds intimidating but is actually easy to do using the function curve_fit from the library scipi.optimize. This function takes as arguments the function's name, the independent variable array (could be multidimensional), and the dependent variable array."
   ]
  },
  {
   "cell_type": "code",
   "execution_count": 13,
   "metadata": {},
   "outputs": [
    {
     "name": "stdout",
     "output_type": "stream",
     "text": [
      "Our actual coefficients were a =  0.100, b = 10.000, c =  0.500\n",
      "Our fitting coefficients were a =  0.097 +/- 0.002, b =  9.998 +/- 0.004, c =  0.499 +/- 0.000\n"
     ]
    },
    {
     "data": {
      "image/png": "[encoded data removed]",
      "text/plain": [
       "<matplotlib.figure.Figure at 0x111f57a58>"
      ]
     },
     "metadata": {},
     "output_type": "display_data"
    }
   ],
   "source": [
    "# import the function\n",
    "from scipy.optimize import curve_fit\n",
    "\n",
    "# now we need to give curve_fit the function and the data arrays. We can also give it an initial guess of the parameters.\n",
    "# I'm choosing 1, 20, and 0.1 to be close but not too close. Curve_fit then outputs the optimized parameters and their\n",
    "# covariances. The diagonal elements in the covariance array are the squares of the standard deviations of the\n",
    "# corresponding optimized parameters\n",
    "\n",
    "p0 = array([1, 20, 0.1]) # my guesses at the parameters\n",
    "popt, pcov = curve_fit(exponential_dk, time, y_new, p0)\n",
    "\n",
    "# Let's see how well we did!\n",
    "\n",
    "plt.figure(2)\n",
    "plt.plot(time, y_new,'-b',label=\"data\")\n",
    "plt.plot(time, exponential_dk(time, *popt),'r',label=\"fit\")\n",
    "plt.xlabel(\"Time (s)\")\n",
    "plt.ylabel(\"Position (m)\")\n",
    "plt.title(\"Noisy exponential decay with fit in red!\")\n",
    "\n",
    "# And numerically as well\n",
    "\n",
    "print (\"Our actual coefficients were a = {:6.3f}\".format(a_0) + \", b = {:6.3f}\".format(b_0) + \", c = {:6.3f}\".format(c_0))\n",
    "print (\"Our fitting coefficients were a = {:6.3f}\".format(popt[0]) + \" +/- {:5.3f}\".format(pcov[0,0]**0.5) + \n",
    "       \", b = {:6.3f}\".format(popt[1]) + \" +/- {:5.3f}\".format(pcov[1,1]**0.5) + \n",
    "       \", c = {:6.3f}\".format(popt[2]) + \" +/- {:5.3f}\".format(pcov[2,2]**0.5))\n"
   ]
  },
  {
   "cell_type": "markdown",
   "metadata": {
    "collapsed": true
   },
   "source": [
    "# Exercise 3.5\n",
    "\n",
    "Investigate what happens if you reduce the number of datapoints and if you increase the noise. I would suggest reducing the \"Npoints\" parameter from 10000 to 1000, 100, 10 to adjust the data file length. Independently, you can try varying the \"width\" parameter from 0.1 to 0.01, 1, 10 to change the noise. Don't forget to execute all the relevant cells... Discuss your observations here:"
   ]
  },
  {
   "cell_type": "markdown",
   "metadata": {
    "collapsed": true
   },
   "source": [
    "3.5: My observations...\n",
    "As N increases, the cureve is smoother. As width increases, the noise of the data becomes very large"
   ]
  },
  {
   "cell_type": "markdown",
   "metadata": {},
   "source": [
    "### e/m data fitting\n",
    "\n",
    "Your theoretical analysis of the \"magnetic force\" e/m data you took before should lead you to expect the radius of curvature to depend on your acceleration voltage and magnetic field in the following way: $ R^{2} = \\frac{2m}{e} \\frac{\\Delta V}{B^{2}} $. So it would be reasonable to fit your $R^{2}$ data to the function $2 / a * \\Delta V / B^{2} + b$, where you would theoretically expect a to be e/m and b to be 0. \n",
    "\n",
    "Define the function appropriately, and determine the unknown coefficients using curve_fit. \n",
    "\n",
    "You can--and should--use python to calculate your radius squared from your measured distance from corner data.\n",
    "\n",
    "I would suggest you use $\\frac {\\Delta V}{B^{2}}$ as the independent variable you feed to your function, which you will have to define below. Don't use the exponential function from before, it won't fit your data well at all.\n",
    "\n",
    "This will only work well if you have good data with Helmholtz coils well positioned. You will be very, very disappointed if you feed bad data to curve_fit. You will also be disappointed if you use too few data points. A setup is available if you need to grab another dataset to improve quality or quantity."
   ]
  },
  {
   "cell_type": "code",
   "execution_count": 14,
   "metadata": {
    "collapsed": true
   },
   "outputs": [],
   "source": [
    "#Put your function here\n",
    "def R(x, a, b):\n",
    "    return ((2/a)*x) + b #this is the R^2 function"
   ]
  },
  {
   "cell_type": "code",
   "execution_count": 15,
   "metadata": {},
   "outputs": [
    {
     "name": "stdout",
     "output_type": "stream",
     "text": [
      "Our fitting coefficients were a = 170157182603.2 +/- 5401236337.70, b = 0.0 +/- 0.0\n"
     ]
    },
    {
     "data": {
      "image/png": "[encoded data removed]",
      "text/plain": [
       "<matplotlib.figure.Figure at 0x111ff9ac8>"
      ]
     },
     "metadata": {},
     "output_type": "display_data"
    }
   ],
   "source": [
    "\n",
    "k=4.17*10**(0-3)\n",
    "d=array([.064,.059,.055,.052,.049,.048,.046]) #distance data\n",
    "V=array([2000,2500,3000,3500,4000,4500,5000]) #voltage data\n",
    "dy=(d*(2**.5))/2 #y compontent of radius\n",
    "dx=(0.08*(2**.5))-dy #xcomponent of radius\n",
    "radius=((dx**2)+(dy**2))/(2*dy) #equation for radius\n",
    "\n",
    "B=k*0.5\n",
    "independent= V/(B**2)\n",
    "\n",
    "# Your code for curve fitting goes here. Note we've already imported the curve_fit function from scipy, so you don't need to\n",
    "# do that again.\n",
    "# Show the plot of R^2 vs. Delta V/B^2 with fit, and show the fitting coefficients with uncertaintie\n",
    "\n",
    "p0 = array([1.7*(10**-11), 0.01]) # my guesses at the parameters\n",
    "popt, pcov = curve_fit(R, independent, radius**2)\n",
    "\n",
    "\n",
    "plt.figure(3)\n",
    "plt.scatter(independent, radius**2)\n",
    "plt.plot(independent, R(independent, *popt), 'r')\n",
    "xlabel(\"V/B^2\")\n",
    "ylabel(\"Radius^2\")\n",
    "suptitle(\"Radius squared for constant Current fit in red\")\n",
    "\n",
    "print (\"Our fitting coefficients were a = {:1.1f}\".format(popt[0]) + \" +/- {:2.2f}\".format(pcov[0,0]**0.5) + \n",
    "       \", b = {:1.1f}\".format(popt[1]) + \" +/- {:1.1f}\".format(pcov[1,1]**0.5) )\n",
    "\n"
   ]
  },
  {
   "cell_type": "markdown",
   "metadata": {},
   "source": [
    "# e/m data, found yet another way\n",
    "\n",
    "It is possible to use the capacitor plates in the bulb to exert an electric force to counter the magnetic force caused by the Helmholtz coils. Just set up a magnetic field to curve the beam, and then gradually increase the voltage on the capacitor plates until the beam travels straight along the diagonal of the phosphor screen. At that point the electric and magnetic forces balance exactly. You can use the magnitude of the electric and magnetic fields to determine the e/m ratio.\n",
    "\n",
    "You should derive the following relationship: $(\\Delta V')^{2} = \\frac{2d^{2}e}{m}B^{2}\\Delta V$,\n",
    "where $\\Delta V$ is the high voltage accelerating the beam in the electron gun, $\\Delta V'$ is the voltage applied across the capacitor plates in the spherical part of the e/m tube, $d = 0.8$ cm is the distance between capacitor plates, and $B = k I$ is the magnetic field, where $k = 4.17 x 10^{-3}$ T/A.\n",
    "\n",
    "This naturally suggests fitting your $(\\Delta V')^{2}$ data to the function $2d^{2} * a * \\Delta V * B^{2} + b$, where we would theoretically expect a to be e/m and b to be 0\n",
    "\n",
    "You will want to obtain enough data points to get a satisfactory fit, given you have two fitting parameters. I would suggest a minimum of 6 high quality points, ideally more."
   ]
  },
  {
   "cell_type": "code",
   "execution_count": 16,
   "metadata": {
    "collapsed": true
   },
   "outputs": [],
   "source": [
    "# Put your function here"
   ]
  },
  {
   "cell_type": "code",
   "execution_count": 17,
   "metadata": {
    "collapsed": true
   },
   "outputs": [],
   "source": [
    "# Your code goes here\n",
    "# Show the plot with fit, and show the fitting coefficients with uncertainties"
   ]
  },
  {
   "cell_type": "markdown",
   "metadata": {},
   "source": [
    "## Check-out\n",
    "#### Exercise 3.6\n",
    "\n",
    "Briefly summarize in the cell below the ideas of today's lab."
   ]
  },
  {
   "cell_type": "code",
   "execution_count": null,
   "metadata": {
    "collapsed": true
   },
   "outputs": [],
   "source": []
  }
 ],
 "metadata": {
  "kernelspec": {
   "display_name": "Python 3",
   "language": "python",
   "name": "python3"
  },
  "language_info": {
   "codemirror_mode": {
    "name": "ipython",
    "version": 3
   },
   "file_extension": ".py",
   "mimetype": "text/x-python",
   "name": "python",
   "nbconvert_exporter": "python",
   "pygments_lexer": "ipython3",
   "version": "3.6.1"
  }
 },
 "nbformat": 4,
 "nbformat_minor": 1
}
