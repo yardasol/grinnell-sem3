{
 "cells": [
  {
   "cell_type": "markdown",
   "metadata": {},
   "source": [
    "## <font color='green'> This notebook is used in the H/D splitting Modern lab\n",
    "#### Make a copy of this notebook, and note that it is organized into blocks of code as follows:\n",
    "\n",
    "#### <font color='blue'>Setup - connect the devices, import packages\n",
    "#### <font color='blue'>Read file from SpectraSense\n",
    "#### <font color='blue'>Analyze Splitting (use to determine spacing between two closely-spaced peaks)\n",
    "#### <font color='blue'>Wavelength Conversions\n",
    "\n",
    "Optics: Our Acton 0.3 m monochrometers have an aperture ratio of f/4, which is a measure of the acceptance angle of the bundle of light rays as they enter the monochromator. Imagine a cone of diameter D (the lens aperture) focusing down to the slit over distance L. The half angle of the cone is such that tan(θ2)=D/2L=12Ftan⁡(θ2)=D/2L=12F, where FF is the f-number. So our f/4 gives an acceptance (half) angle of 7.1 $^\\circ$. If the light comes in at a steeper angle you overfill the grating and cause stray light. If the light comes at too shallow an angle, you won't illuminate as many grooves on the grating and you suffer reduced spectral resolution. If we use the \"gold\" lens with a focal length of around 75 mm in the 1:1 imaging configuration (image size is same as object size) we slightly overfill the grating. If you work it out, our optimum input would put the lens about 200 mm from the slit, and the lamp 125 mm from the lens. None of this is too critical in today's experiment. For best throughput no matter the image size, focus an image of the lamp onto the slits.\n",
    "\n",
    "Artifacts: although these tubes are filled with pure hydrogen or a hydrogen/deuterium mixture,there may be inpurities present. You may see some broad features due to molecular H2, D2 or HD, if you look in the cooler parts of the lamp. And don't be concerned that your eyes are playing tricks on you: the tubes will look red due to the strong Balmer alpha line near 656 nm. The strongest peak recorded will be in the blue (486 nm) because that's where the photomultiplier tube is most sensitive."
   ]
  },
  {
   "cell_type": "markdown",
   "metadata": {},
   "source": [
    "## <font color='blue'>SETUP: \n",
    "### <font color='blue'>If you are using the Acton 275 with a SpectraHub, connect the Acton monochromator to the PC via a regular DE9 RS232 cable.  Then connect a USB cable between the SpectraHub \"USB\" and the PC.\n",
    "### <font color='blue'>If you are using an Acton 2300 with a SpectraHub, connect the Acton monochromator to the PC via a USB cable, and then run another USB cable between the monochromator itself and the SpectraHub.\n",
    "\n",
    "### <font color='blue'>The multipin cable goes between SpectraHub and the PMT housing.  A BNC cable goes between the SpectraHub and the PMT housing.\n",
    "\n",
    "### <font color='red'>If you are using the Acton 275, you'll need to put it under computer control by turning it on, and waiting for it to boot up until the menu screen is visible.  Hit F1 to put it on the RATE menu, then F2, then RESET.  It will indicate \"COMPUTER CONTROL\" on the 4th line of the display and should be ready to go."
   ]
  },
  {
   "cell_type": "markdown",
   "metadata": {},
   "source": [
    "## <font color='blue'> Initialize (import packages)"
   ]
  },
  {
   "cell_type": "code",
   "execution_count": 11,
   "metadata": {
    "collapsed": false
   },
   "outputs": [
    {
     "name": "stdout",
     "output_type": "stream",
     "text": [
      "Using matplotlib backend: Qt5Agg\n"
     ]
    }
   ],
   "source": [
    "%matplotlib\n",
    "\n",
    "# PJHT 10/23/2015\n",
    "import matplotlib.pyplot as plt\n",
    "import numpy as np\n"
   ]
  },
  {
   "cell_type": "markdown",
   "metadata": {},
   "source": [
    "## <font color='blue'> ACQUIRE DATA.  The easiest way to get a quick scan with the SpectraSense software is to select \"Survey\".  Look at the bottom of this cell to learn how to save a spectrum.  See the separate Word document on using SpectraSense. \n",
    "\n",
    "\n",
    "#### Scanning is best done with room lights off, otherwise you'll get Hg and even Na lines from the fluorescent tubes.\n",
    "\n",
    "#### Typical voltages on the photomultiplier tube are -400 V or -500 V  for wide slits, and -1000 V for narrow slits.  Slit spacing needs to be around 100-250 microns for coarse (10-25 on micrometers), fast scanning (50-100 nm/min), or 10-30 (1-3 little units on micrometers) microns for high-resolution scanning at 1-2 nm/min.\n",
    "\n",
    "### To guide your choice, bear in mind that the monochromator should always have its entrance and exit slits set at the same width.  Each turn of the dial is 25 counts, or 250 microns.  Clockwise makes the slits open up; counterclockwise makes them close.  At 0 they are held apart by an internal stop.\n",
    "### The approximate resolution of the monochromators at various slit spacings is\n",
    "#### 5 microns:  0.1 nm\n",
    "#### 150 microns: 0.7 nm\n",
    "#### 500 microns:  2 nm\n",
    "#### 1000 microns:  4 nm\n",
    "\n",
    "A nice compromise for a survey scan is around 150 microns, so the visible light range (300-700 nm) can be captured adequately if each data point is spaced around 0.5 nm from the previous one.\n",
    "\n",
    "When you want to zoom in and get a high resolution scan, you'll need to narrow the slits.  Do this iteratively, because you might miss the peak entirely if the monochromator is set for the wrong wavelength.  Cut the slit widths in half and then repeat the scanning cell.  Bump up the high voltage by 100 V.  Remember to scan more finely so as not to miss the peak between data points.  At 5 microns on the slits, scanning over a 2 nm wide region, you'll want maybe 0.05 nm/point.  \n",
    "\n",
    "If you want even higher resolution, you might set the GRATING_ORDER to 2, which simply means that you set the monochromator to scan at twice the wavelength.  Because the dispersion of a diffraction grating increases with angle (recall that the second m = 2 spectrum is more spread out than m = 1), you'll get better resolution.  These Acton monochromators can be scanned up to 1400 nm in first order, which means you can see the 656 nm line in 2nd order, (656\\*2 < 1400) or the 434 line in 2nd or 3rd order (434\\*3)< 1400.\n",
    "\n",
    "\n",
    "#### <font color='blue'>When you want to take data and save a data file, use SpectraSense's Acquisition tab (lower left).  Select Single Point Scan Mono 1.  Enter the wavelength range (scan from low to high wavelength for consistency), and the step size between points.  For a broad scan with 150 micron slits you might look from 380 to 680 nm at 0.5 nm/step.  Enter a filename to save data as...  Select the file type as Tab delimited, a file format that is easily read by your Python program.  The rest of this notebook assumes you've saved the file on your desktop as \"HD Survey Scan.txt\""
   ]
  },
  {
   "cell_type": "markdown",
   "metadata": {},
   "source": [
    "## <font color='blue'> Read file from SpectraSense¶"
   ]
  },
  {
   "cell_type": "code",
   "execution_count": null,
   "metadata": {
    "collapsed": false,
    "scrolled": true
   },
   "outputs": [],
   "source": [
    "#FILE input setup\n",
    "from numpy import append, array  #so we don't have to say np.append\n",
    "fname = \"c:\\\\users\\\\tjossem\\\\desktop\\\\HD Survey Scan.txt\" \n",
    "f_in = open(fname, mode ='r') #and open a file handle for reading\n",
    "wave_list =[]\n",
    "data_list =[]\n",
    "for line in f_in.readlines(): #as long as there are lines to read, read them\n",
    "    str2 = line.split()  # and split the text into its two elements\n",
    "    wave_list.append(float(str2[0])) #append the result to the wave list\n",
    "    data_list.append(float(str2[1])) # and data list\n",
    "f_in.close()\n",
    "wave = array(wave_list, float) #floats, if you want to multiply them by something\n",
    "data = array(data_list,float)\n",
    "plt.figure()\n",
    "plt.plot(wave, data, '-b')\n",
    "plt.show()"
   ]
  },
  {
   "cell_type": "code",
   "execution_count": null,
   "metadata": {
    "collapsed": false
   },
   "outputs": [],
   "source": [
    "## handy reminder of how to make and number subplots, in case you want to put all your data together\n",
    "x = np.arange(0,5.0,0.01)\n",
    "fig, ((a,b),(c,d)) = plt.subplots(2,2)\n",
    "a.plot(x, np.sin(x))\n",
    "b.plot(x, np.cos(x))\n",
    "c.plot(x, np.tan(x))\n",
    "d.plot(x, np.tanh(x))"
   ]
  },
  {
   "cell_type": "markdown",
   "metadata": {},
   "source": [
    "### <font color='green'> ANALYZE SPLITTING Try this for fitting a pair of Gaussians to your data set.  Assumes a flat background B"
   ]
  },
  {
   "cell_type": "code",
   "execution_count": null,
   "metadata": {
    "collapsed": false
   },
   "outputs": [],
   "source": [
    "from scipy.optimize import curve_fit\n",
    "#  Fit to two Gaussians\n",
    "x = np.array(wave_list) #assumes you have H/D peaks near 486 nm with heights of 100000\n",
    "y = np.array(data_list)\n",
    "def func_two_gauss(x, A1, mu1, sig1,A2,mu2,sig2, B):\n",
    "    return A1*np.exp(-0.5*((x-mu1)/sig1)**2)+A2*np.exp(-0.5*((x-mu2)/sig2)**2)+B\n",
    "A1 = 100000 #put your plausible numbers here\n",
    "mu1= 486.3#\n",
    "sig1 = 0.1#\n",
    "A2 = 150000\n",
    "mu2 = 486.5\n",
    "sig2 = 0.1\n",
    "B = 500\n",
    "p0=(A1,mu1,sig1,A2,mu2,sig2,B)\n",
    "popt, pcov = curve_fit(func_two_gauss, x, y,p0)\n",
    "\n",
    "fig = plt.figure(figsize = (12,8)) #select a 12x8 inch  figure\n",
    "f_manager = plt.get_current_fig_manager()\n",
    "f_manager.window.move(-1920/2,0)  #place figure \n",
    "\n",
    "\n",
    "plt.plot(x,y,'*')\n",
    "\n",
    "xfine = np.linspace(x[0],x[-1],1001)  #plot smooth curve \n",
    "plt.plot(xfine, func_two_gauss(xfine,A1,mu1,sig1,A2,mu2,sig2,B), '--r')  #initial guess is dashed red line\n",
    "plt.plot(xfine, func_two_gauss(xfine,*popt),'-b') #final fit is solid blue\n",
    "plt.show()\n",
    "plt.title(\"H/D splitting with fitted Gaussians in 2nd order\\n Peak 1: {:5.3f} nm; Peak 2: {:5.3f} nm\".format(popt[1],popt[4]))\n",
    "plt.xlabel(\"Wavelength (nm)\")\n",
    "plt.ylabel(\"Photocurrent\")\n",
    "\n",
    "print(\"Best fit parameters: \", popt)\n",
    "perr = np.sqrt(np.diag(pcov)) #1-sigma \n",
    "print(\"Standard errors of the parameters:\", perr)\n",
    "print(\"Wavelength difference between centers: {:5.3f} nm\".format(popt[4]-popt[1]))"
   ]
  },
  {
   "cell_type": "markdown",
   "metadata": {
    "collapsed": true
   },
   "source": [
    "### <font color='blue'>WAVELENGTH CONVERSION (vac to air or air to vac) using ref_index.  Recall that the Rydberg formula for the hydrogen atom is a statement about $\\it energy~levels$, not wavelengths.  We measure wavelengths in air, where the index of refraction is not quite 1.0 (It's about 1.0003, but even that number varies a little bit with wavelength.)  So before converting from wavelength into frequency via $f = c/\\lambda$, we really ought to convert what are referred to as \"air wavelengths\" into \"vacuum wavelengths\" by multiplying by the index of refraction at that wavelength.  Fortunately, someone has created a handy couple of conversions to simplify this task:"
   ]
  },
  {
   "cell_type": "code",
   "execution_count": null,
   "metadata": {
    "collapsed": false
   },
   "outputs": [],
   "source": [
    "#In order to use this notebook you need to install ref_index into your Python distribution\n",
    "#Open up an Anaconda Command prompt and type this:   >pip install ref_index\n",
    "\n",
    "import ref_index\n",
    "import numpy as np\n",
    "# Example usage:\n",
    "# Define wavelength array\n",
    "wvl = 10*np.arange(10) + 500.0\n",
    "print (\"Input wavelengths: \", wvl, \"\\r\\n\")\n",
    "\n",
    "# Convert wavelength in air to wavelength\n",
    "# in vacuum\n",
    "wvlVac = ref_index.air2vac(wvl)\n",
    "print (\"Wavelength in vacuum: \\r\\n\", wvlVac, \"\\r\\n\")\n",
    "\n",
    "# Convert wavelength back from vacuum to air to see that it works\n",
    "wvlAir = ref_index.vac2air(wvlVac)\n",
    "print (\"Converting back to wavelength in air: \", wvlAir)"
   ]
  },
  {
   "cell_type": "markdown",
   "metadata": {},
   "source": [
    "### <font color='blue'> Approximate conversion expected between vacuum  and air for hydrogen atom:"
   ]
  },
  {
   "cell_type": "code",
   "execution_count": null,
   "metadata": {
    "collapsed": false
   },
   "outputs": [],
   "source": [
    "#H-atom spectrum example, predicted spectral line position using known Rydberg constant\n",
    "import scipy.constants\n",
    "n_arr = np.arange(3,10)\n",
    "print(\"Literature value of Rydberg constant:\", scipy.constants.Rydberg)\n",
    "vac_energy = -scipy.constants.Rydberg*(1/(n_arr**2)-1/4)\n",
    "#print(vac_energy)\n",
    "vac_wavelength = (1/vac_energy)*1e9\n",
    "air_wavelength = np.array(ref_index.vac2air(vac_wavelength))\n",
    "correction = vac_wavelength-air_wavelength\n",
    "#print(n_arr,vac_energy,vac_wavelength, air_wavelength)\n",
    "print(\"  n   energy(1/lambda)    vac_lambda      air_lambda     correction\")\n",
    "for i in np.arange(len(n_arr)):\n",
    "    print(\"{:3d}    {:12.4f}   {:12.5f}    {:12.5f}    {:12.5f}\".format(i+3, vac_energy[i],vac_wavelength[i],air_wavelength[i], correction[i]))\n",
    "    "
   ]
  },
  {
   "cell_type": "markdown",
   "metadata": {},
   "source": [
    "## <font color='blue'> Finally, your US government at work:\n",
    "#### <font color='blue'>Take a look at this website to search for atomic lines for many elements in many ionization states \n",
    "#### <font color='blue'>https://physics.nist.gov/PhysRefData/Handbook/Tables/hydrogentable2.htm"
   ]
  },
  {
   "cell_type": "code",
   "execution_count": null,
   "metadata": {
    "collapsed": true
   },
   "outputs": [],
   "source": []
  }
 ],
 "metadata": {
  "anaconda-cloud": {},
  "kernelspec": {
   "display_name": "Python [default]",
   "language": "python",
   "name": "python3"
  },
  "language_info": {
   "codemirror_mode": {
    "name": "ipython",
    "version": 3
   },
   "file_extension": ".py",
   "mimetype": "text/x-python",
   "name": "python",
   "nbconvert_exporter": "python",
   "pygments_lexer": "ipython3",
   "version": "3.5.2"
  }
 },
 "nbformat": 4,
 "nbformat_minor": 0
}
