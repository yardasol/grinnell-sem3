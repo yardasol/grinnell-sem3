{
 "cells": [
  {
   "cell_type": "markdown",
   "metadata": {},
   "source": [
    "### H/D Lab wavelength conversion (vac to air or air to vac) using ref_index"
   ]
  },
  {
   "cell_type": "code",
   "execution_count": 1,
   "metadata": {
    "collapsed": false
   },
   "outputs": [
    {
     "name": "stdout",
     "output_type": "stream",
     "text": [
      "Input wavelengths:  [ 500.  501.  502.  503.  504.  505.  506.  507.  508.  509.]\n",
      "Wavelength in vacuum:  [ 500.13948691  501.13975272  502.14001856  503.14028443  504.14055033\n",
      "  505.14081626  506.14108221  507.1413482   508.14161422  509.14188027]\n",
      "Wavelength in air:  [ 500.00000184  501.00000183  502.00000183  503.00000182  504.00000182\n",
      "  505.00000182  506.00000181  507.00000181  508.0000018   509.0000018 ]\n"
     ]
    }
   ],
   "source": [
    "#In order to use this notebook you need to install ref_index into your Python distribution\n",
    "#Open up an Anaconda Command prompt and type this:   >pip install ref_index\n",
    "\n",
    "import ref_index\n",
    "import numpy as np\n",
    "\n",
    "# Define wavelength array\n",
    "wvl = np.arange(10) + 500.0\n",
    "print (\"Input wavelengths: \", wvl)\n",
    "\n",
    "# Convert wavelength in air to wavelength\n",
    "# in vacuum\n",
    "wvlVac = ref_index.air2vac(wvl)\n",
    "print (\"Wavelength in vacuum: \", wvlVac)\n",
    "\n",
    "# Convert wavelength back from vacuum to air\n",
    "wvlAir = ref_index.vac2air(wvlVac)\n",
    "print (\"Wavelength in air: \", wvlAir)\n",
    "\n",
    "\n",
    "\n",
    "\n"
   ]
  },
  {
   "cell_type": "code",
   "execution_count": 3,
   "metadata": {
    "collapsed": false
   },
   "outputs": [
    {
     "name": "stdout",
     "output_type": "stream",
     "text": [
      "Literature value of Rydberg constant: 10973731.568508\n",
      "  n   energy(1/lambda)    vac_lambda      air_lambda     correction\n",
      "  3    1524129.3845      656.11228       655.93107         0.18120\n",
      "  4    2057574.6691      486.00909       485.87336         0.13573\n",
      "  5    2304483.6294      433.93669       433.81472         0.12197\n",
      "  6    2438607.0152      410.07017       409.95447         0.11571\n",
      "  7    2519479.1866      396.90743       396.79516         0.11227\n",
      "  8    2571968.3364      388.80727       388.69712         0.11015\n",
      "  9    2607954.7246      383.44224       383.33348         0.10876\n"
     ]
    }
   ],
   "source": [
    "#H-atom spectrum example, predicted spectral line position using known Rydberg constant\n",
    "import scipy.constants\n",
    "n_arr = np.arange(3,10)\n",
    "print(\"Literature value of Rydberg constant:\", scipy.constants.Rydberg)\n",
    "vac_energy = -scipy.constants.Rydberg*(1/(n_arr**2)-1/4)\n",
    "#print(vac_energy)\n",
    "vac_wavelength = (1/vac_energy)*1e9\n",
    "air_wavelength = np.array(ref_index.vac2air(vac_wavelength))\n",
    "correction = vac_wavelength-air_wavelength\n",
    "#print(n_arr,vac_energy,vac_wavelength, air_wavelength)\n",
    "print(\"  n   energy(1/lambda)    vac_lambda      air_lambda     correction\")\n",
    "for i in np.arange(len(n_arr)):\n",
    "    print(\"{:3d}    {:12.4f}   {:12.5f}    {:12.5f}    {:12.5f}\".format(i+3, vac_energy[i],vac_wavelength[i],air_wavelength[i], correction[i]))\n",
    "    "
   ]
  },
  {
   "cell_type": "code",
   "execution_count": null,
   "metadata": {
    "collapsed": true
   },
   "outputs": [],
   "source": []
  }
 ],
 "metadata": {
  "anaconda-cloud": {},
  "kernelspec": {
   "display_name": "Python [Root]",
   "language": "python",
   "name": "Python [Root]"
  },
  "language_info": {
   "codemirror_mode": {
    "name": "ipython",
    "version": 3
   },
   "file_extension": ".py",
   "mimetype": "text/x-python",
   "name": "python",
   "nbconvert_exporter": "python",
   "pygments_lexer": "ipython3",
   "version": "3.5.2"
  }
 },
 "nbformat": 4,
 "nbformat_minor": 0
}
