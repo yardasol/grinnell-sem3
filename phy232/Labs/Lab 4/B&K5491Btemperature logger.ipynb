{
 "cells": [
  {
   "cell_type": "markdown",
   "metadata": {},
   "source": [
    "## Read and record resistance values using a B&K digital multimeter\n",
    "## Application:  using a cailbrated thermistor to record temperatures"
   ]
  },
  {
   "cell_type": "code",
   "execution_count": 39,
   "metadata": {},
   "outputs": [
    {
     "name": "stdout",
     "output_type": "stream",
     "text": [
      "Using matplotlib backend: Qt5Agg\n",
      "Populating the interactive namespace from numpy and matplotlib\n"
     ]
    }
   ],
   "source": [
    "%pylab"
   ]
  },
  {
   "cell_type": "markdown",
   "metadata": {},
   "source": [
    "### Function to convert resistance to temperature"
   ]
  },
  {
   "cell_type": "code",
   "execution_count": 40,
   "metadata": {
    "collapsed": true
   },
   "outputs": [],
   "source": [
    "#This function converts thermistor resistance to absolute temperature\n",
    "#It assumes you have already found the Steinhart-Hart coefficients a, b, c \n",
    "#As written, it assumes a 3-point calibration from the published R-T table from Vishay, the manufacturer\n",
    "#You need to determine your own x array which contains the three fit parameters.  See last cell, where\n",
    "#you measure R at 3 widely spaced temperatures, then solve the simultaneous equations in order\n",
    "#to get your own unique x array containing the a, b, c coefficients.\n",
    "\n",
    "x = array([  1.14284098e-03,   2.31872789e-04,   9.66213033e-08])\n",
    "\n",
    "def tK(x,r):\n",
    "    inverset = x[0]+x[1]*log(r)+x[2]*(log(r))**3         #solve for reciprocal T                            \n",
    "    temperature = 1/inverset  #and report back the absolute temperature\n",
    "    return temperature"
   ]
  },
  {
   "cell_type": "markdown",
   "metadata": {},
   "source": [
    "### Code to establish communications between the PC and the B&K DMM"
   ]
  },
  {
   "cell_type": "code",
   "execution_count": 41,
   "metadata": {},
   "outputs": [
    {
     "name": "stdout",
     "output_type": "stream",
     "text": [
      "Using matplotlib backend: Qt5Agg\n",
      "Populating the interactive namespace from numpy and matplotlib\n",
      "Setting up B & K on USB virtual comm port\n",
      "Trying comm port: COM3\n",
      "b''\n",
      "Connecting to B&K DMM\n",
      "Here's the truncated return string: \n",
      "b''\n",
      "Trying comm port: COM4\n",
      "b'*IDN?\\n5491B  Multimeter,Ver1.4.14.06.18,124D17187\\n'\n",
      "Connecting to B&K DMM\n",
      "Here's the truncated return string: \n",
      "b'*IDN?\\n5491B  Multimeter'\n",
      "B&K is connected on port 4\n",
      "\n",
      "Version:  Ver1.4.14.06.18\n",
      "S/N:  124D17187\n",
      "\n",
      "COM4\n",
      "Flushing B&K serial port buffers\n",
      "Resetting the B%K....\n",
      "Response bytes:   b'*rst\\n'\n",
      "\n",
      "\n",
      "Communications established\n",
      "\n",
      "\n"
     ]
    }
   ],
   "source": [
    "%pylab  \n",
    "#the usual magic command that imports scipy, numpy, and matplotlib\n",
    "# Python routine to control the B&K 5491B digital multimeter via a virtual serial port on USB.\n",
    "# This was designed for use in a project lab for PHY310 Fall 2016\n",
    "# \n",
    "# PJHT 8/24/16\n",
    "#This cell needs to be run whenever you have disconnected the USB cable, shutoff the B&K, or closed the port\n",
    "#Its purpose is to establish communications with the digital multimeter\n",
    "\n",
    "import serial  #pySerial folder needs to be put in the directory pythonXX\\lib\\site-packages\\serial\n",
    "#The standard installation lacks this serial package.  If this notebook reports back that serial package\n",
    "#is not found, open an Anaconda command window, then type\n",
    "#>>>pip install pyserial\n",
    "#then check that it's there with \n",
    "#>>>pip list\n",
    "#The Anaconda 3 installer should put it in the correct directory\n",
    "\n",
    "#Cabling: connect the B&K via a usb cable.  Drivers may need to be installed from the B&K website\n",
    "#Because the device registers as a virtual comm port, Windows will put it at some port #\n",
    "#This notebook attempts sequentially to connect the first device on com3-20 (there are better ways to do this)\n",
    "#In Windows, pull up the Device Manager and look at the Ports (COM & lpt) listing to see where\n",
    "#the B&K 5891 device has been placed.  If you have lots\n",
    "#of other usb devices, there's a chance that these numbers won't work.  Modify accordingly.\n",
    "\n",
    "#If you want two B&K 5491B DMMs connected, you'll need to identify them by serial number, which is \n",
    "#returned as the last response to the *IDN? query\n",
    "\n",
    "import numpy as np\n",
    "from numpy import append #need this to gather the data on the fly\n",
    "from time import sleep, localtime,strftime #some timekeeping functions\n",
    "import time\n",
    "from serial import SerialException\n",
    "\n",
    "#this function is used to send a command to the B&K\n",
    "def send_to_BK(command_str):  #\n",
    "    #print(\"Command String: \",command_str)\n",
    "    return_bytes = bytearray(b'')\n",
    "    command_str = command_str+\"\\n\"  #append a <LF>, required for B&K\n",
    "# In order to indicate the end of a line, you'd normally type <ENTER>, which on a (Win)PC would output\n",
    "# two characters, carriage return (CR)+ linefeed (LF).  In Linux it would be just LF.  The default message\n",
    "# terminator for the B&K is simply LF, which is encoded as \\n at the end of each message, so that's what\n",
    "# we use here.\n",
    "    err = ser_BK.write(command_str.encode())\n",
    "    #   the .encode() method converts the string into a byte array, and is required to use ser.write() routine\n",
    "    sleep(SLEEP_TIME) #typically this is 0.3 seconds, because the B&K is a bit slow\n",
    "    return_bytes = ser_BK.read(DATA_LENGTH)\n",
    "    sleep(SLEEP_TIME)\n",
    "    return return_bytes\n",
    "\n",
    "PAUSE=0.5  #this is OK at 0, at least for 9600 baud\n",
    "\n",
    "BAUD_BK = 38400  #The default rate is 9600 baud\n",
    "'''\n",
    "    This is the approximate transmission rate in bits per second.  Typically it takes about 10 bits to transmit\n",
    "    a single character (1 start bit + 8 bits for the character + 1 or 2 stop bits), so figure that \n",
    "    9600 baud will do about 960 characters per second.\n",
    "\n",
    "'''\n",
    "TIME_OUT = 0.5  # don't hang around forever looking for data, but give the B& K time to respond\n",
    "\n",
    "#This timeout limits the data rate\n",
    "SLEEP_TIME = 0.2 #another pause in case  commands are garbled\n",
    "DATA_LENGTH = 999  #could put this at 9999 and leave it\n",
    "\n",
    "\n",
    "from serial.tools import list_ports  \n",
    "list_ports.comports() #this handy function allows you to see present COM connections\n",
    "\n",
    "#We don't know which virtual comm port the B&K is using, so we'll just check several:\n",
    "return_bytes = bytearray()\n",
    "connected = 0\n",
    "print(\"Setting up B & K on USB virtual comm port\")\n",
    "for COM_PORT_NUM in np.arange(3,20):  #look for ports 3-20\n",
    "    try:\n",
    "        COM_PORT = \"COM{:d}\".format(COM_PORT_NUM)\n",
    "        print('Trying comm port: '+COM_PORT)\n",
    "        # The B&K throws errors every 60 seconds unless you specify some inter_byte_timeout\n",
    "        ser_BK = serial.Serial(COM_PORT,BAUD_BK,timeout=TIME_OUT, inter_byte_timeout = 0.10)   \n",
    "        sleep(SLEEP_TIME)\n",
    "        return_bytes = send_to_BK(\"*IDN?\")      #who are you?\n",
    "        sleep(SLEEP_TIME)\n",
    "        print(return_bytes)\n",
    "        return_string = str(return_bytes,'utf-8')  #convert the bytes into a string\n",
    "        response_list = return_string.split(\",\")   #so you can split up its parts on commas\n",
    "       \n",
    "        print(\"Connecting to B&K DMM\")\n",
    "        print(\"Here's the truncated return string: \")\n",
    "        print(return_bytes[:23])\n",
    "        if (return_bytes[:23] == b'*IDN?\\n5491B  Multimeter'):  #This is the response from the 5491B series        \n",
    "            print(\"B&K is connected on port {:d}\\n\".format(COM_PORT_NUM))\n",
    "            print(\"Version: \",response_list[1])\n",
    "            print(\"S/N: \",response_list[2])\n",
    "            connected = 1\n",
    "       \n",
    "            break  \n",
    "    except SerialException:   \n",
    "        print (\"Port already open....closing...opening\")\n",
    "        ser_BK.close()\n",
    "        \n",
    "    if (connected==1):      #got it; quit looking\n",
    "        print(\"Connection is complete\")\n",
    "        break    \n",
    "       \n",
    "print(ser_BK.name)  #print the name of the com port again\n",
    "print(\"Flushing B&K serial port buffers\")\n",
    "sleep(SLEEP_TIME)\n",
    "ser_BK.flushInput() #flush input buffer, discarding all its contents\n",
    "sleep(SLEEP_TIME)\n",
    "ser_BK.flushOutput()#flush output buffer, aborting current output \n",
    "sleep(SLEEP_TIME)\n",
    "#sleep(2)\n",
    "print(\"Resetting the B%K....\")\n",
    "return_bytes=send_to_BK(\"*rst\")  #reset\n",
    "sleep(4)  #give it time to complete\n",
    "print(\"Response bytes:  \", return_bytes)\n",
    "print(\"\\n\\nCommunications established\\n\\n\")"
   ]
  },
  {
   "cell_type": "markdown",
   "metadata": {},
   "source": [
    "### Here's where you can change what you measure with the DMM.  It can be a voltmeter, an ammeter, or an ohmmeter depending on the \"func xxx\" line"
   ]
  },
  {
   "cell_type": "code",
   "execution_count": 51,
   "metadata": {},
   "outputs": [
    {
     "name": "stdout",
     "output_type": "stream",
     "text": [
      "Response bytes:   b'res:rang:auto on\\n'\n",
      "Response bytes:   b'FUNC?\\nres\\n'\n",
      "\n",
      "\n",
      "Ready to take data\n",
      "\n",
      "\n"
     ]
    }
   ],
   "source": [
    "return_bytes=send_to_BK(\"func res\")  #select function resistance (no ':' because it is top level)\n",
    "sleep(1)\n",
    "return_bytes=send_to_BK(\"res:nplc 1\") #medium speed\n",
    "sleep(1)\n",
    "return_bytes = send_to_BK(\"res:rang:auto on\") #auto ranging is OK\n",
    "sleep(1)\n",
    "print(\"Response bytes:  \", return_bytes)\n",
    "return_bytes=send_to_BK(\"FUNC?\")\n",
    "print(\"Response bytes:  \", return_bytes)\n",
    "sleep(2)\n",
    "print(\"\\n\\nReady to take data\\n\\n\")"
   ]
  },
  {
   "cell_type": "markdown",
   "metadata": {
    "collapsed": true
   },
   "source": [
    "### Here is the loop in which data are acquired from the B&K\n",
    " Resistance values are converted into temperature and stored as lists\n",
    " \n",
    " The time at which the data are acquired is stored in a list\n"
   ]
  },
  {
   "cell_type": "code",
   "execution_count": 54,
   "metadata": {
    "scrolled": true
   },
   "outputs": [
    {
     "name": "stdout",
     "output_type": "stream",
     "text": [
      "Scanning..\n",
      "resistance return string: [ b'FETC?\\n3.30033945e4\\n' ]\n",
      "Stripped return string:  \n",
      "3.30033945e4\n",
      "\n",
      "resistance:  33003.3945 ohms\n",
      "0 14:45:21 Temperature:    -0.236, R = 33003.3945,        Err =  0\n",
      "resistance return string: [ b'FETC?\\n3.30042109e4\\n' ]\n",
      "Stripped return string:  \n",
      "3.30042109e4\n",
      "\n",
      "resistance:  33004.2109 ohms\n",
      "1 14:45:23 Temperature:    -0.236, R = 33004.2109,        Err =  0\n",
      "resistance return string: [ b'FETC?\\n3.30045039e4\\n' ]\n",
      "Stripped return string:  \n",
      "3.30045039e4\n",
      "\n",
      "resistance:  33004.5039 ohms\n",
      "2 14:45:25 Temperature:    -0.236, R = 33004.5039,        Err =  0\n",
      "resistance return string: [ b'FETC?\\n3.30051406e4\\n' ]\n",
      "Stripped return string:  \n",
      "3.30051406e4\n",
      "\n",
      "resistance:  33005.1406 ohms\n",
      "3 14:45:26 Temperature:    -0.237, R = 33005.1406,        Err =  0\n",
      "resistance return string: [ b'FETC?\\n3.30069609e4\\n' ]\n",
      "Stripped return string:  \n",
      "3.30069609e4\n",
      "\n",
      "resistance:  33006.9609 ohms\n",
      "4 14:45:28 Temperature:    -0.238, R = 33006.9609,        Err =  0\n"
     ]
    }
   ],
   "source": [
    "#Here's the actual data taking \n",
    "#First set up some file names and header text to be written at the top of the file\n",
    "filename = \"Thermistor resistance Data Logging cold.txt\"\n",
    "headertext = 'Block thermistor resistance in Modern Lab'\n",
    "open(filename, mode ='w') #and open that filename for 'w'riting\n",
    "# and here is where you can change the total number of readings that you will record:\n",
    "MAX_COUNT=60*60*24  #good for 24 hours if you read 1/sec\n",
    "MAX_COUNT = 5  #just try it for 30 readings\n",
    "#MAX_COUNT =5  #or just 5\n",
    "\n",
    "# Set up and clear the data lists for resistance, temperature, and time\n",
    "res_list=[]  #keep track of where we've been\n",
    "temp_list=[] # and the signal\n",
    "time_list=[] #and the time, which will store in numerical format; convert later\n",
    "done_flag = 0\n",
    "count = 0\n",
    "return_bytes = bytearray(b'')\n",
    "\n",
    "print(\"Scanning..\")\n",
    "bad_count = 0\n",
    "start_time = time.time()\n",
    "while (count< MAX_COUNT):  #just a loop over MAX_COUNTs \n",
    "    sleep(1) #this 1 second pause, plus the pauses within send_to_BK, determine the acquisition period\n",
    "    BK_str = \"FETC?\"  #This is the command to fetch the next fresh data\n",
    "    return_bytes = send_to_BK(BK_str)#read the response from the B&K.  It's a byte array  \n",
    "    print(\"resistance return string: [\" ,return_bytes,\"]\") #show the complete byte array\n",
    "    return_string = str(return_bytes,'utf-8')  #convert the bytes into a string (handy for further manipulation)\n",
    "    trunc_string = return_string.replace('FETC?','') #and remove the fetch command from the string\n",
    "    print(\"Stripped return string: \",trunc_string) #print just to make sure [sometimes it is empty]\n",
    "    try:   #this try:...except is a way to catch errors without killing the program\n",
    "        resistance = float(trunc_string) #extract the resistance from the string & convert to float\n",
    "        #This will raise an error (an exception) if the number is garbled or not present\n",
    "    except:\n",
    "        continue  #sometimes the B&K gets out of phase because the FETC? command comes up empty\n",
    "                  #just try again, kicking you back to the top of the while loop without advancing the \n",
    "                  #count counter\n",
    "    #Here we assume the conversion has gone OK:\n",
    "    print(\"resistance: \", resistance, \"ohms\")\n",
    "    #And now let's put a couple of lines in to tell us if we've got problems with the connections:\n",
    "    if resistance < 2:\n",
    "        print(\"Are the two leads shorted against each other?\")\n",
    "        print(\"The resistance of the thermistor should lie in the 500 ohm to 20 Kohm range\")\n",
    "    elif resistance > 1e6:  #in Python, elif is \"else-if\"\n",
    "        print(\"Are you measuring the resistance of an open circuit?\")\n",
    "        print(\"Check your connections\")\n",
    "    #print(\"Temperature: \", tK(x,resistance))\n",
    "    #print(\"Resistance: \", resistance,\"Temperature: \", tK(x,resistance))  \n",
    "    #print(\"{:18.7f}\".format(time.time()))  #a float version of time\n",
    "    \n",
    "    print(count, strftime(\"%H:%M:%S\",localtime()), \"Temperature: {:9.3f}, R = {:9.4f},\\\n",
    "        Err = \".format(tK(x,resistance)-273.15,resistance), bad_count)\n",
    "    #(That print statement is too long to put on one line, so use the \\ to break it across two lines)\n",
    "    res_list.append(resistance) #append it to the list\n",
    "    temp_list.append(tK(x,resistance))\n",
    "    #time_list.append(strftime(\"%H:%M:%S\",localtime()))\n",
    "    time_list.append(time.time())\n",
    "    #savetxt(filename,strftime(\"%H:%M:%S\",localtime()),end=\" \")\n",
    "    #savetxt(filename,tK(x,resistance),end=\" \")\n",
    "    #savetxt(filename,resistance,fmt=\"%9.4f\\n\\r\")\n",
    "    count+=1\n",
    "\n",
    "    #print(\"Temperature in C: {:9.2f}\".format(tK(x,resistance)-273.15)      ) \n",
    "\n",
    "outp = column_stack((time_list,temp_list,res_list))  #TO DO:  format to allow H:M:S rather than float for time\n",
    "\n",
    "savetxt(filename, outp, delimiter=\"  \", header = headertext)\n",
    "    #savetxt(filename, (time_list[i],temp_list[i],res_list[i]), fmt=\"%H%M%S\"+\"%9.3f\"+\"%9.4f\")\n",
    "#savetxt(filename,column_stack((temp_list,res_list)),delimiter=\"   \", header=headertext)\n",
    "time_arr = array(time_list)\n",
    "#just an alternative way to save the data:\n",
    "temp_arr = array(temp_list)\n",
    "res_arr = array(res_list)\n",
    "tc = zeros(time_arr.size,dtype=[('var1',float),('var2',float), ('var3',float)])\n",
    "tc['var1']=time_arr\n",
    "tc['var2']=temp_arr\n",
    "tc['var3']=res_arr\n",
    "np.savetxt('test2.txt', tc, fmt=\"%f %9.4f  %9.4f\")\n",
    "\n",
    "#print(\"Closing B&K port\")\n",
    "#ser_BK.close()\n",
    "#print(wave_list)"
   ]
  },
  {
   "cell_type": "markdown",
   "metadata": {},
   "source": [
    "### You can print out the resistance values like so"
   ]
  },
  {
   "cell_type": "code",
   "execution_count": 47,
   "metadata": {},
   "outputs": [
    {
     "data": {
      "text/plain": [
       "[25.3535289, 25.354227, 25.3505687, 25.3544158, 25.3570308]"
      ]
     },
     "execution_count": 47,
     "metadata": {},
     "output_type": "execute_result"
    }
   ],
   "source": [
    "res_list  #run this line to get a list of all the resistance values you've recorded"
   ]
  },
  {
   "cell_type": "markdown",
   "metadata": {},
   "source": [
    "### Or plot them as a list"
   ]
  },
  {
   "cell_type": "code",
   "execution_count": 19,
   "metadata": {
    "collapsed": true
   },
   "outputs": [],
   "source": [
    "figure()  #and here is a rudimentary plot of the temperatures, assuming that the conversion is correct\n",
    "plot(res_list)\n",
    "#plot(temp_list)\n",
    "show()"
   ]
  },
  {
   "cell_type": "markdown",
   "metadata": {},
   "source": [
    "### This last function is essential for calibrating your thermistor.  You'll need to measure R at 3 widely spaced temperatures, then solve the simultaneous equations in order to get your own unique x array containing the a, b, c coefficients.  Here we illustrate the procedure by looking at the datasheet:"
   ]
  },
  {
   "cell_type": "code",
   "execution_count": 55,
   "metadata": {},
   "outputs": [
    {
     "data": {
      "text/plain": [
       "[<matplotlib.lines.Line2D at 0x8314198>]"
      ]
     },
     "execution_count": 55,
     "metadata": {},
     "output_type": "execute_result"
    }
   ],
   "source": [
    "#  Solve simultaneous equations at three widely spaced temperatures\n",
    "#Here we assume we have values at 10 C, 51 C, and 90 C, and looked at the Vishay datasheet\n",
    "#which says that the resistance at 10 C is 19897 ohms, at 51 C it is 3547.5 ohms, and at 90 C it is 911.59 ohms\n",
    "a = np.array([[1,log(3.3*10**4),(log(3.3*10**4))**3], [1,log(1.199*10**4),(log(1.199*10**4))**3],[1, log(1.923*10**3),(log(1.923*10**3))**3]])\n",
    "b = np.array([1/(273.2),1/(294.8),1/(351.4)])\n",
    "x = np.linalg.solve(a, b)  #Solve these equations to deduce a, b, c, and store in 3-element array x\n",
    "x  #use this x in the tK function above\n",
    "# Just to see what this looks like, we can generate an R T plot to get an idea:\n",
    "figure()\n",
    "r = linspace (500,20000, 1000) #create an array of 1000 pts between 500 and 20K ohms\n",
    "# By the way:  do not extrapolate!  If you try to use your calibrated thermistor outside its range of calibration\n",
    "# you will get increasingly bad results\n",
    "t = tK(x,r)\n",
    "\n",
    "title(\"Approximate calibration curve for Vishay thermistor, with \\n \\\n",
    "    a = {:7e}, b = {:7e}, c = {:7e}\".format(x[0],x[1],x[2]))\n",
    "plt.xlabel('Absolute Temperature')\n",
    "plt.ylabel('Resistance $\\Omega$')\n",
    "plt.plot(t,r)"
   ]
  },
  {
   "cell_type": "code",
   "execution_count": null,
   "metadata": {
    "collapsed": true
   },
   "outputs": [],
   "source": []
  }
 ],
 "metadata": {
  "anaconda-cloud": {},
  "kernelspec": {
   "display_name": "Python 3",
   "language": "python",
   "name": "python3"
  },
  "language_info": {
   "codemirror_mode": {
    "name": "ipython",
    "version": 3
   },
   "file_extension": ".py",
   "mimetype": "text/x-python",
   "name": "python",
   "nbconvert_exporter": "python",
   "pygments_lexer": "ipython3",
   "version": "3.6.1"
  }
 },
 "nbformat": 4,
 "nbformat_minor": 1
}
