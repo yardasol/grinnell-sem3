{
 "cells": [
  {
   "cell_type": "markdown",
   "metadata": {},
   "source": [
    "### Notebook to use 2 or more B&K DMMs at the same time and collect data from all B&Ks\n",
    "### Mod Lab application:  Photoelectric Effect lab, measure stopping voltage and photocurrent\n",
    "###  \n",
    "#### Recommendation:  Turn on PE box and voltmeters for at least 20 minutes before taking data.  Typically it takes 30 minutes for instruments and power supplies to stabilize thermally.  When taking data, you'll get better results scanning from high stopping voltage toward low, because the photocurrents are smaller, causing less heating of the electronics.\n",
    "\n",
    "#### You need to direct the light from the laser pointer straight into the opening in the electronics (PE Effect) box.  The best way to see that you are on target is to dial the stopping voltage down to zero and view the photocurrent signal.  To either side it will be very large.  Dead in the middle you will get a very small signal, because there is a mask inside that prevents light from falling directly on the anode (which would give you a reverse PE effect that we don't want to look at today), and that mask will also block the light from falling on the photocathode.  Just direct the light to either side, where you get a large photocurrent.  Zero the meter with the Zero knob, then turn the voltage all the way up and you should see the signal go away.  \n",
    "#### When you actually take data you'll want to dial the knob slowly in some places and quickly in others, because we care mostly about the transition between essentially no photocurrent and just a tiny bit of photocurrent.  Because of the slow data rate of the DMMs, you'll want to make sure to give the meters enough time to settle at each voltage.\n",
    "\n",
    "#### Work in semi-darkness to minimize stray light. Room lights, or light from your computer will give some contaminating wavelengths.   A cardboard tube should block room lights effectively.  It might be a nice idea to run a scan with the laser turned off in order to see that your baseline is at most a gently sloped straight line (due to differential heating in the circuitry causing baseline drift).  Then when you direct the diffused laser light, you'll see that the baseline shifts a bit, because the laser light heats the photcathode ever so gently.  Allow a couple of minutes for this baseline to settle.  Optionally, you can zero out the baseline again.\n",
    "\n",
    "### Suggestion: reduce the size of this notebook window, and place it in the upper right hand corner of your screen.  The live plot of your data will appear in the upper left hand corner, rather than get lost beneath the Jupyter notebook icon in the taskbar."
   ]
  },
  {
   "cell_type": "code",
   "execution_count": 2,
   "metadata": {},
   "outputs": [
    {
     "name": "stdout",
     "output_type": "stream",
     "text": [
      "Using matplotlib backend: MacOSX\n",
      "Populating the interactive namespace from numpy and matplotlib\n"
     ]
    }
   ],
   "source": [
    "%pylab"
   ]
  },
  {
   "cell_type": "markdown",
   "metadata": {},
   "source": [
    "### Code to establish communications between the PC and the B&K DMMs\n",
    "#### For simplicity, you'll need to run this each time you take data in the cell that follows, in order to reestablish communications.  (You can try commenting out the port closing lines at the bottom of the acquisition routine, but if you quit the scan early the B&Ks get out of phase in reading.  If that happens, just run the cell to reestablish communications.)"
   ]
  },
  {
   "cell_type": "code",
   "execution_count": 63,
   "metadata": {},
   "outputs": [
    {
     "name": "stdout",
     "output_type": "stream",
     "text": [
      "%%%%%%%%%%%%%%%%%%%%%%%%%%%%%%%%%%%%%%%%%%%%%%%%%%\n",
      "Table of all connected COM ports:\n",
      "\n",
      "COM1 - Communications Port (COM1)\n",
      "COM3 - Intel(R) Active Management Technology - SOL (COM3)\n",
      "COM4 - Silicon Labs CP210x USB to UART Bridge (COM4)\n",
      "COM7 - Silicon Labs CP210x USB to UART Bridge (COM7)\n",
      "%%%%%%%%%%%%%%%%%%%%%%%%%%%%%%%%%%%%%%%%%%%%%%%%%%\n",
      "\n",
      "Found a Silicon Labs interface on port:  COM4\n",
      "Found a Silicon Labs interface on port:  COM7\n",
      "\n",
      "You have 2 connected BK ports, \n",
      " ['COM4', 'COM7']\n",
      "\n",
      "Identification of device 0:\n",
      "\n",
      "\t *IDN?\n",
      "5491B  Multimeter\n",
      "\t Ver1.4.14.06.18\n",
      "\t 124E16106\n",
      "\n",
      "\n",
      "Identification of device 1:\n",
      "\n",
      "\t *IDN?\n",
      "5491B  Multimeter\n",
      "\t Ver1.4.14.06.18\n",
      "\t 124D17188\n",
      "\n",
      "Flushing all BK ports...\n",
      "Resetting all BK devices...\n",
      "\n",
      "BK DMMs are initialized\n",
      "\n"
     ]
    }
   ],
   "source": [
    "# PJHT 9/22/17\n",
    "import serial  #pySerial folder needs to be put in the directory pythonXX\\lib\\site-packages\\serial\n",
    "#The standard installation lacks this serial package.  If this notebook reports back that serial package\n",
    "#is not found, open an Anaconda command window, then type\n",
    "#>>>pip install pyserial\n",
    "#then check that it's there with \n",
    "#>>>pip list\n",
    "#The Anaconda 3 installer should put it in the correct directory\n",
    "\n",
    "#Cabling: connect the B&Ks via usb cables.  Drivers may need to be installed from the B&K website\n",
    "#Because the device registers as a virtual comm port, Windows will put it at some port #\n",
    "\n",
    "import numpy as np\n",
    "from numpy import append #need this to gather the data on the fly\n",
    "from time import sleep, localtime,strftime #some timekeeping functions\n",
    "import time\n",
    "from serial import SerialException\n",
    "from serial.tools import list_ports #to give you an iterator to list the ports\n",
    "BAUD_BK = 38400  #The default rate is 9600 baud\n",
    "'''\n",
    "    This is the approximate transmission rate in bits per second.  Typically it takes about 10 bits to transmit\n",
    "    a single character (1 start bit + 8 bits for the character + 1 or 2 stop bits), so figure that \n",
    "    9600 baud will do about 960 characters per second.\n",
    "\n",
    "'''\n",
    "\n",
    "def send_to_BK(command_str):  #This function a little different from the last (thermistor) lab\n",
    "    # Now command_str is a list, into which we can put commands to send to all B&Ks in the same function\n",
    "    #print(\"Inside send_to_BK, num = \", num)\n",
    "    #print(\"Command String: \",command_str)\n",
    "    return_bytes = [] #make it an empty list\n",
    "    for BK in range(len(command_str)):\n",
    "        #BK is simply an integer that will be the index of the corresponding B&K device\n",
    "        # If BK = 0, it'll be the first device; BK = 1 is the second one, etc.\n",
    "        command_str[BK] = command_str[BK]+\"\\n\"  #append a <LF>, required for B&K\n",
    "        err = ser_BK[BK].write(command_str[BK].encode())\n",
    "    #   the .encode() method converts the string into a byte array, and is required to use ser.write() routine\n",
    "    sleep(SLEEP_TIME) #typically this is 0.2 seconds, because the B&K is a bit slow\n",
    "    for BK in range(len(command_str)):  #Now read back all connected B&Ks and store in big byte array\n",
    "        #The .extend method is analogous to the string .append method, but is used to with byte arrays\n",
    "        return_bytes.append(ser_BK[BK].read(DATA_LENGTH))\n",
    "    sleep(SLEEP_TIME)\n",
    "    #Uncomment this next line if you want to see that return_bytes now contains responses from all the \n",
    "    #connected B&K DMMs\n",
    "    #print(\"All of return bytes: <<<<\", return_bytes,\">>>>\\n\\n\")\n",
    "    return return_bytes  #For two connected devices, this should return a pair of byte arrays\n",
    "\n",
    "# We need some way to parse (chop up) the return_bytes byte arrays into responses from each device\n",
    "# Fortunately we know that the identification information is four elements separated by commas:\n",
    "def parse_ID(return_bytes): #\n",
    "    #print(\"top of parse_ID\",return_bytes)\n",
    "    response_list = []\n",
    "    return_string =[]\n",
    "    \n",
    "    for BK in range(NumBKports):\n",
    "        #print(\"BK = \",BK)\n",
    "        return_string.append(str(return_bytes[BK],'utf-8'))  #convert the bytes into a string\n",
    "                                                    #convert the bytes into a string\n",
    "    #print(\"Return string1 :\",return_string)\n",
    "    for BK in range(NumBKports):\n",
    "        response_list = return_string[BK].split(\",\")   #so you can split up its parts on commas\n",
    "        #print(\"Response_list split on comma\",response_list)\n",
    "        print(\"\\n\\rIdentification of device {:d}:\\n\\r\".format(BK))\n",
    "        print(\"\\t\",response_list[0])\n",
    "        print(\"\\t\",response_list[1])\n",
    "        print(\"\\t\",response_list[2])\n",
    "       \n",
    "    return \n",
    "\n",
    "\n",
    "\n",
    "TIME_OUT = 0.5  # don't hang around forever looking for data, but give the B& K time to respond\n",
    "\n",
    "#This timeout limits the data rate\n",
    "SLEEP_TIME = 0.3 #a pause for each time you write to or read from the B&K\n",
    "DATA_LENGTH = 999  #could put this at 9999 and leave it\n",
    "\n",
    "filename = \"Data Logger Lab 5.txt\"\n",
    "headertext = 'Take data at regular intervals'\n",
    "open(filename, mode ='w')\n",
    "\n",
    "#Take a look at the connected ports:\n",
    "ports =serial.tools.list_ports.comports()\n",
    "print(\"%%%%%%%%%%%%%%%%%%%%%%%%%%%%%%%%%%%%%%%%%%%%%%%%%%\")\n",
    "print(\"Table of all connected COM ports:\\n\\r\")\n",
    "#Sort the list and print it\n",
    "for p in sorted(ports):\n",
    "    print(p)\n",
    "print(\"%%%%%%%%%%%%%%%%%%%%%%%%%%%%%%%%%%%%%%%%%%%%%%%%%%\\n\\r\")\n",
    "\n",
    "#ports has various attributes which can be accessed by index as shown in some examples here,\n",
    "#which may look a little strange because the ports are not sorted in this view:\n",
    "#print(\"\\nHere's perhaps the first port: \",ports[0])\n",
    "#print(\"And if there is a second port: \",ports[1])\n",
    "#print(\"The port device name for ports[2]: \",ports[2].device)\n",
    "#print(\"The description of the device on ports[2]: \",ports[2].description)\n",
    "#print(\"Technical descriptor of ports[2]: \\n\", ports[2].hwid)\n",
    "#print(\"  OK, that was full geek\\n\\n\")\n",
    "#More systematically \n",
    "#Find the ports that use the Silicon Labs CP210X controller inside the B&K usb port\n",
    "#The B&K meters have a Silicon Labs interface, so let's look for this:\n",
    "SilLabs = \"Silicon Labs CP210x USB to UART Bridge\" \n",
    "BKports =[] #an empty list that will be filled with full port descriptors\n",
    "for p in sorted(ports):\n",
    "    if p.description.find(SilLabs) >= 0:  #will report -1 if not there\n",
    "        print(\"Found a Silicon Labs interface on port: \", p.device)\n",
    "        BKports.append(p.device)\n",
    "\n",
    "NumBKports = len(BKports) #the number of B&K ports\n",
    "print(\"\\nYou have {:d} connected BK ports, \\n\".format(NumBKports), BKports)\n",
    "\n",
    "connected = []\n",
    "ser_BK = [] #this will be the devices that you can communicate with\n",
    "\n",
    "#return_bytes=bytearray() \n",
    "\n",
    "\n",
    "try:  #strategy:  for each port, build up a list of commands.  In this case we loop only\n",
    "    #over valid B&K ports (NumBKports) and set their communication parameters\n",
    "    for BK in range(NumBKports): \n",
    "        test = serial.Serial(BKports[BK],BAUD_BK,timeout=TIME_OUT, inter_byte_timeout = 0.005) \n",
    "        #print(test)\n",
    "        ser_BK.append(test)\n",
    "    \n",
    "except SerialException:   \n",
    "    print (\"Port already open....closing...opening\")\n",
    "    ser_BK[BK].close()\n",
    "sleep(SLEEP_TIME)\n",
    "#Now that the ports are open, we see who's there\n",
    "BK_str =[] #this will hold the strings of commands that you will send to the B&Ks\n",
    "for BK in range(NumBKports):  #We build up a list of commands to send to all devices in turn\n",
    "    #BK is simply an integer that will be the index of the corresponding B&K device\n",
    "    # If BK = 0, it'll be the first device; BK = 1 is the second one, etc.\n",
    "    #print(\"BK = \",BK)\n",
    "    BK_str.append(\"*IDN?\")  #This is the command to identify the device\n",
    "    #So by the end of this loop, for 2 B&Ks, we'll have created a list of commands\n",
    "#print(\"Check now that BK_str =\", BK_str)\n",
    "return_bytes = send_to_BK(BK_str) #after sending off the list of commands (1 per device)\n",
    "                                #read back a list of responses for all BKs\n",
    "#print(\"<<<\", return_bytes,\">>>\\n\\n\\n\")    \n",
    "#print(\"Let's see what the responses are:\\n\")\n",
    "try:\n",
    "    parse_ID(return_bytes)\n",
    "except:\n",
    "    print(\"Error:  Make sure that both BK DMMs are turned on\")\n",
    "    \n",
    "#print(\"return bytes outside: \",return_bytes)\n",
    "#return_bytes = send_to_BK(\"*IDN?\",i)      #who are you?\n",
    "sleep(SLEEP_TIME)\n",
    "#print(return_bytes)\n",
    "#return_string = str(return_bytes,'utf-8')  #convert the bytes into a string\n",
    "#response_list = return_string.split(\",\")   #so you can split up its parts on commas\n",
    "\n",
    "#print(\"Connecting to B&K DMM on \"+BKports[i])\n",
    "\n",
    "\n",
    "#Flush the ports, again building up the new command list\n",
    "print(\"Flushing all BK ports...\")\n",
    "for BK in range(NumBKports):\n",
    "    ser_BK[BK].flushInput() #flush input buffer, discarding all its contents\n",
    "sleep(SLEEP_TIME)\n",
    "for BK in range(NumBKports): \n",
    "    ser_BK[BK].flushOutput()#flush output buffer, aborting current output \n",
    "sleep(SLEEP_TIME)\n",
    "print(\"Resetting all BK devices...\")\n",
    "#Build up the list of commands\n",
    "command_str=[] #clear out the previous command_str!\n",
    "for BK in range(NumBKports):\n",
    "    command_str.append(\"*rst\")\n",
    "return_bytes=send_to_BK(command_str)  #reset all devices\n",
    "sleep(4) #a good 4 second delay to allow each device to reset itself\n",
    "#Now set the functions\n",
    "command_str=[] #clear out the previous command_str!\n",
    "for BK in range(NumBKports):  #let everyone be a voltmeter\n",
    "    command_str.append(\"func volt:dc\")  \n",
    "return_bytes=send_to_BK(command_str)  #\n",
    "command_str=[] #clear out the previous command_str!\n",
    "for BK in range(NumBKports):  #let everyone have the same response speed\n",
    "    command_str.append(\"volt:dc:nplc 1\")  #make it average 1 power line cycles, i.e. 1/60 s\n",
    "return_bytes=send_to_BK(command_str)  #\n",
    "command_str=[] #clear out the previous command_str!\n",
    "for BK in range(NumBKports):  #let everyone be autoranging\n",
    "    command_str.append(\"volt:dc:rang:auto on\")  \n",
    "return_bytes=send_to_BK(command_str)  #\n",
    "print(\"\\n\\rBK DMMs are initialized\\n\\r\")"
   ]
  },
  {
   "cell_type": "markdown",
   "metadata": {},
   "source": [
    "### Main data acquisition loop\n",
    "#### Be sure to change the wavelength appropriately so that your graphs contain that info.  The line plt.clf() erases the multicolored raw data plot each time.  If you want to put all your raw data on one plot, you could comment this line out.  It's handy for seeing the variation between two or more data sets."
   ]
  },
  {
   "cell_type": "code",
   "execution_count": 64,
   "metadata": {
    "scrolled": true
   },
   "outputs": [
    {
     "name": "stdout",
     "output_type": "stream",
     "text": [
      "Scanning...\r"
     ]
    },
    {
     "name": "stderr",
     "output_type": "stream",
     "text": [
      "C:\\ProgramData\\Anaconda3\\lib\\site-packages\\matplotlib\\backend_bases.py:2453: MatplotlibDeprecationWarning: Using default event loop until function specific to this GUI is implemented\n",
      "  warnings.warn(str, mplDeprecation)\n"
     ]
    },
    {
     "name": "stdout",
     "output_type": "stream",
     "text": [
      "Closing file: Blue22017.09.28.15.30.00.txt\n"
     ]
    }
   ],
   "source": [
    "#The plt.ion() command allows \"interactive plotting on\"  Look in the Taskbar for the plot \n",
    "# Scatter(v1, v2) plots the current list of voltages\n",
    "#  You need a little pause in the plotting to get this to show\n",
    "#  (This method of plotting while you take data is frowned upon and will generate a warning at the bottom of this cell.  Just\n",
    "#  ignore it until Python comes up with something better!)\n",
    "\n",
    "# You'll note that this cell will take 100 data points before stopping.\n",
    "\n",
    "wavelength = 446 #the wavelength (nm) of the light source\n",
    "f_out_root = \"Blue2\"  #pick a filename root\n",
    "time_string = strftime(\"%Y.%m.%d.%H.%M.%S\",localtime())\n",
    "f_out_root = f_out_root+time_string+\".txt\" #and then make it unique by writing the time with it\n",
    "f_out = open(f_out_root, mode ='w') #and open a file handle for writing\n",
    "v1_list=[]  #keep track of two devices\n",
    "v2_list=[] # \n",
    "time_list=[] #and the time, which will store in numerical format; convert later\n",
    "done_flag = 0\n",
    "count = 0\n",
    "MAX_COUNT=60*60*24  #good for 24 hours if 1 sec per loop\n",
    "MAX_COUNT = 100  #just try it for 100 values\n",
    "\n",
    "\n",
    "fig1 = plt.figure(1, figsize = (6,6))  #select a 6 inch square figure\n",
    "f_manager = plt.get_current_fig_manager()\n",
    "f_manager.window.move(0,0)  #place figure in upper left corner\n",
    "##################################################################\n",
    "plt.clf() #clear out the old data\n",
    "##################################################################\n",
    "title(\"Raw data at {:4.1f} nm\".format(wavelength))\n",
    "xlabel(\"Stopping Potential\")\n",
    "ylabel(\"Voltage proportional to photocurrent\")\n",
    "plt.ion()\n",
    "print(\"Scanning...\",end =\"\\r\")\n",
    "bad_count = 0\n",
    "for BK in range(NumBKports):       \n",
    "        BK_str[BK] = \"FETC?\"  #This is the command to fetch the next fresh data\n",
    "\n",
    "while (count< MAX_COUNT): \n",
    "    return_string=[]\n",
    "    trunc_string=[]\n",
    "    #sleep(1) #this pause, plus the pauses within send_to_BK, determine the acquisition period\n",
    "    \n",
    "    return_bytes = send_to_BK(BK_str) #this now returns a list of bytearrays\n",
    "    for BK in range(NumBKports):\n",
    "        #print(\"BK = \",BK)\n",
    "        return_string.append(str(return_bytes[BK],'utf-8'))  #convert the bytes into a string\n",
    "                                                    #convert the bytes into a string\n",
    "    #print(\"return_bytes: \",return_bytes)\n",
    "    #return_string = str(return_bytes,'utf-8')  #convert the bytes into a string (handy for further manipulation)\n",
    "    #print(\"return_string: \",return_string)\n",
    "    try:\n",
    "        for BK in range(NumBKports):\n",
    "            trunc_string.append(return_string[BK].replace('FETC?','')) #and remove the fetch commands from the string\n",
    "   \n",
    "    #print(\"Stripped return string: \",trunc_string) #print just to make sure [sometimes it is empty]\n",
    "    #this try:...except is a way to catch errors without killing the program\n",
    "  \n",
    "        v1 = float(trunc_string[0]) #extract the resistance from the string & convert to float\n",
    "        v2 = float(trunc_string[1])\n",
    "    except:\n",
    "        continue\n",
    "        #This will raise an error (an exception) if the number is garbled or not present\n",
    "   \n",
    "    #Here we assume the conversion has gone OK:\n",
    "    #print(\"resistance return string: [\" ,return_bytes,\"]\")\n",
    "    #The next line will plot points in blue\n",
    "    #plt.scatter(v1,v2, color = 'b')\n",
    "    #If you omit the color, you'll get something that looks like \"Put in Me in the Zoo\" by Robert Lopshire\n",
    "    plt.scatter(v1,v2) #which is kind of handy for seeing the latest data point\n",
    "    title(\"Raw data at {:4.1f} nm, count = {:d}\".format(wavelength,count))\n",
    "    plt.pause(0.005)\n",
    "    print(count, strftime(\"%H:%M:%S\",localtime()), \"V1: {:9.3f}, V2 = {:9.4f}\".format(v1,v2),end=\"\\r\")#no line feed\n",
    "    v1_list.append(v1) #append it to the list\n",
    "    v2_list.append(v2)\n",
    "    #time_list.append(strftime(\"%H:%M:%S\",localtime()))\n",
    "    time_list.append(time.time())\n",
    "    \n",
    "    f_out.write(\"{:4d}\\t{:12.4f}\\t{:5e}\\t{:5e}\\n\".format(count,time.time(), v1,v2))   #write out data in real time\n",
    "    \n",
    "    count+=1\n",
    "    #savetxt(filename,strftime(\"%H:%M:%S\",localtime()),end=\" \")\n",
    "    #savetxt(filename,tK(x,resistance),end=\" \")\n",
    "    #savet​-xt(filename,resistance,fmt=\"%9.4f\\n\\r\")\n",
    "    #while True:\n",
    "        #plt.pause(0.05)\n",
    "print(\"Scan complete\",end =\"\\r\")        \n",
    "plt.show()\n",
    "\n",
    "#print(\"Scan complete                                           \")    \n",
    "#print(\"Closing B&K ports\")\n",
    "#for BK in range(NumBKports):\n",
    "    #ser_BK[BK].close()\n",
    "print(\"Closing file: \"+f_out_root)  \n",
    "f_out.close()\n"
   ]
  },
  {
   "cell_type": "markdown",
   "metadata": {},
   "source": [
    "### Print a list of v1 voltages"
   ]
  },
  {
   "cell_type": "code",
   "execution_count": null,
   "metadata": {
    "collapsed": true
   },
   "outputs": [],
   "source": [
    "v1_list  #just print a list of V1 voltages"
   ]
  },
  {
   "cell_type": "markdown",
   "metadata": {},
   "source": [
    "### Make a simple plot"
   ]
  },
  {
   "cell_type": "code",
   "execution_count": 65,
   "metadata": {
    "collapsed": true
   },
   "outputs": [],
   "source": [
    "figure()\n",
    "wavelength = 446\n",
    "plot(v1_list, v2_list)\n",
    "plot(v1_list,v2_list,'*g',ms=10)\n",
    "title(\"Photocurrent vs. stopping potential at wavelength = {:4.1f} nm\\n\".format(wavelength)+f_out_root)\n",
    "ylabel(\"Photocurrent\")\n",
    "xlabel(\"Stopping Voltage\")\n",
    "show()"
   ]
  },
  {
   "cell_type": "markdown",
   "metadata": {},
   "source": [
    "### Just for fun, here's a simple model that suggests that the current increases exponentially below the stopping potential. We think this spread is caused by thermionic emission, in addition to the photoelectric effect"
   ]
  },
  {
   "cell_type": "code",
   "execution_count": null,
   "metadata": {
    "collapsed": true
   },
   "outputs": [],
   "source": [
    "from scipy.optimize import curve_fit\n",
    "def func(x,m, k, offs, baselineslope): \n",
    "    return(m*exp(-k*x)-offs*ones(len(x))-baselineslope*x)\n",
    "\n",
    "#popt is an array containing the optimized parameters.  Put in plausible starting guesses in p0:\n",
    "p0 = (.1, 1, 0,0)\n",
    "x = array(v1_list)\n",
    "#print(x)\n",
    "y = array(v2_list)\n",
    "#print(y)\n",
    "popt, pcov = curve_fit(func, x,y,p0) #this is the curve fit, return values are in popt\n",
    "print(popt)\n",
    "plt.figure()\n",
    "plt.plot(x,y,'*b')\n",
    "plt.plot(x,func(x,*p0),'--r')\n",
    "plt.title(\"Model data and (bad) initial guess of parameters\\n \"+f_out_root)\n",
    "finex = linspace(x[0],x[-1],1000)  #make a fine mesh upon which to plot the fit\n",
    "plt.plot(finex,func(finex,popt[0],popt[1],popt[2], popt[3]), '-r') #plot the fit\n"
   ]
  },
  {
   "cell_type": "markdown",
   "metadata": {},
   "source": [
    "###  But you'll probably want to determine the baseline of your photocurrent vs. stopping voltage data, which will allow you to estimate the point at which the most energetic electrons just begin to appear.  For that purpose, we illustrate how you might fit the flat baseline (changing the voltage for each color laser appropriately).  You can also see how flat the baseline is by taking the standard deviation.  Here we draw a second line that lies 1 standard deviation above the first."
   ]
  },
  {
   "cell_type": "code",
   "execution_count": 68,
   "metadata": {},
   "outputs": [
    {
     "name": "stdout",
     "output_type": "stream",
     "text": [
      "[-0.00079274 -0.00381507]\n",
      "0.000158428937493\n"
     ]
    },
    {
     "data": {
      "text/plain": [
       "[<matplotlib.lines.Line2D at 0xe1f2550>]"
      ]
     },
     "execution_count": 68,
     "metadata": {},
     "output_type": "execute_result"
    }
   ],
   "source": [
    "#Illustration of how to find the indices of all v1 values > 1.0 (volts)\n",
    "#Fit a straight line through this baseline\n",
    "#Extract the slope and intercept of this line\n",
    "from scipy.optimize import curve_fit\n",
    "def line_fn(x,m,b):  #the straight line fitting function\n",
    "    return m*x+b\n",
    "x =array(v1_list)  #turn the list data into arrays\n",
    "y =array(v2_list)\n",
    "indx = x > 1.8  #look for values of v1 that are greater than 1.0 (this won't work with the bluest laser!)\n",
    "x1 = x[indx]  #x1 is now the subset of v1 values that are greater than 1.0\n",
    "y1 = y[indx]  #y1 is the corresponding set of v2 values\n",
    "x1 = x1[6:]  #lopping off the last few points near high stopping potential\n",
    "y1 = y1[6:]   #(Assumes you've scanned from high to low!)\n",
    "figure()\n",
    "plot(x1,y1,'*r')\n",
    "p0 = (0,0)  #guess a slope and intercept.  If well warmed up and zeroed, this will be about right\n",
    "popt, pcov = curve_fit(line_fn, x1,y1,p0) #this is the curve fit, return values are in popt\n",
    "print(popt)  #print the actual intercept and slope\n",
    "\n",
    "plt.plot(x,y,'*b')\n",
    "plot(x1,y1,'*r')  #these red points were used in the baseline fit\n",
    "plt.plot(x,line_fn(x,*popt),'--r') #and given a red dashed line\n",
    "\n",
    "#just for reference, let's draw a green line that is one standard deviation above\n",
    "#the baseline\n",
    "onestd = std(y1)\n",
    "print(onestd)\n",
    "plt.plot(x, line_fn(x,popt[0],popt[1]+onestd),'-g')\n",
    "\n",
    "\n",
    "#You might want to repeat this procedure for the vertical line as photocurrent rises rapidly.  Then find the intersection\n",
    "#of the two lines.  That's one possible systematic way to determine the point at which the photocurrent starts to rise,\n",
    "#but it probably underestimates the stopping voltage.\n",
    "\n",
    "#Another possibility is to look for the first point at which the photocurrent rises above the noise level of this baseline\n"
   ]
  },
  {
   "cell_type": "markdown",
   "metadata": {
    "collapsed": true
   },
   "source": [
    "### Here's how you might open that last saved file, read in the data, and plot"
   ]
  },
  {
   "cell_type": "code",
   "execution_count": 20,
   "metadata": {
    "collapsed": true
   },
   "outputs": [],
   "source": [
    "#fname = f_out_root #here you'll need the full path:  \"c:\\\\users\\\\yourname\\\\desktop\\\\filename\"\n",
    "#fname = \"c:\\\\users\\\\tjossem\\\\desktop\\\\Charles Josh and Mark15.53.30.txt\"\n",
    "fname = \"c:\\\\users\\\\yardasol\\\\desktop\\\\Lab 5\\\\Green2017.09.28.14.16.22.txt\"\n",
    "f_in = open(fname)\n",
    "#f_in = open(f_out_root)\n",
    "fcount = []\n",
    "ftime = []\n",
    "fv1 = []\n",
    "fv2 = []\n",
    "str_in =[]\n",
    "for line in f_in.readlines():\n",
    "    str_in = line.split() #chop it on white space\n",
    "    #print(str_in)\n",
    "    fcount.append(float(str_in[0]))\n",
    "    ftime.append(float(str_in[1]))\n",
    "    fv1.append(float(str_in[2]))\n",
    "    fv2.append(float(str_in[3]))\n",
    "f_in.close()\n",
    "figure()\n",
    "plot(fv1,fv2,'ob', ms = 12)\n",
    "plot(fv1,fv2,'-k')\n",
    "title(\"Photocurrent vs. stopping potential at wavelength = {:4.1f} nm\".format(wavelength))\n",
    "ylabel(\"Photocurrent\")\n",
    "xlabel(\"Stopping Voltage\")\n",
    "show()"
   ]
  },
  {
   "cell_type": "markdown",
   "metadata": {},
   "source": [
    "### Saving a figure in pdf format is very simple--just give it a .pdf extension.  Other formats include .eps, .png, etc.  Don't worry that your plot files will look like xxxxx.txt.pdf"
   ]
  },
  {
   "cell_type": "code",
   "execution_count": 21,
   "metadata": {},
   "outputs": [
    {
     "name": "stdout",
     "output_type": "stream",
     "text": [
      "[ 2.13900969  3.88800694  0.10484743 -0.05277523]\n"
     ]
    }
   ],
   "source": [
    "wavelength = 532.0\n",
    "from scipy.optimize import curve_fit\n",
    "def func(x,m, k, offs, baselineslope): \n",
    "    return(m*exp(-k*x)-offs*ones(len(x))-baselineslope*x)\n",
    "from scipy.optimize import curve_fit\n",
    "#popt is an array containing the optimized parameters.  Put in plausible starting guesses in p0:\n",
    "p0 = (0.2, 2, 0,0)\n",
    "x = array(fv1)\n",
    "#print(x)\n",
    "y = array(fv2)\n",
    "#print(y)\n",
    "popt, pcov = curve_fit(func, x,y,p0) #this is the curve fit, return values are in popt\n",
    "print(popt)\n",
    "plt.figure()\n",
    "plt.plot(x,y,'*b')\n",
    "plt.plot(x,func(x,*p0),'--r')\n",
    "plt.title(\"Model data and (bad) initial guess of parameters\\n \")\n",
    "finex = linspace(x[0],x[-1],1000)  #make a fine mesh upon which to plot the fit\n",
    "plt.plot(finex,func(finex,popt[0],popt[1],popt[2], popt[3]), '-g') #plot the fit\n",
    "\n",
    "title(\"Photocurrent vs. stopping potential at wavelength = {:4.1f} nm\\n Fit assumes a single exponential+baseline\".format(wavelength))\n",
    "ylabel(\"Photocurrent\")\n",
    "xlabel(\"Stopping Voltage\")\n",
    "savefig(fname+\".pdf\")"
   ]
  },
  {
   "cell_type": "code",
   "execution_count": 63,
   "metadata": {},
   "outputs": [],
   "source": [
    "#Put your function here\n",
    "def V(x, a, b):\n",
    "    return ((a*x) + b) #this is the R^2 function\n",
    "\n"
   ]
  },
  {
   "cell_type": "code",
   "execution_count": 109,
   "metadata": {},
   "outputs": [
    {
     "name": "stdout",
     "output_type": "stream",
     "text": [
      "Our fitting coefficients were a =  4.4689208267884675e-15 +/-  5.32674118069505e-16, b = -1.465 +/- 0.306\n"
     ]
    }
   ],
   "source": [
    "W=(-1.7)*(1.6*10**(-19))\n",
    "#L=array([638,638,638,532,532,532,446,446,446]) #wavelength data\n",
    "#stop=array([0.69,0.68,0.64,1.03,1.01,0.94,1.52,1.62,1.57]) #Stopping voltage data\n",
    "L=array([638, 532, 446])\n",
    "stop=array([0.67, 0.993, 1.57])\n",
    "independent=(3*10**(8))/((10**(-9))*L)\n",
    "\n",
    "\n",
    "from scipy.optimize import curve_fit\n",
    "#-4.14375*(10**(-15))\n",
    "p0 = array([-4.14375*(10**(-15)), -1.7]) # my guesses at the parameters\n",
    "popt, pcov = curve_fit(V, independent, stop)\n",
    "\n",
    "\n",
    "plt.figure(3)\n",
    "plt.scatter(independent, stop)\n",
    "#plt.xlim(0, 2*(10**(-14)))\n",
    "plt.plot(independent, V(independent, *popt), 'r')\n",
    "xlabel(\"Frequency (s)\")\n",
    "ylabel(\"Stopping voltage (V)\")\n",
    "suptitle(\"Stopping voltage versus frequency\")\n",
    "\n",
    "print(\"Our fitting coefficients were a = \", format(popt[0]) + \" +/- \", format(pcov[0,0]**0.5) + \n",
    "       \", b = {:6.3f}\".format(popt[1]) + \" +/- {:5.3f}\".format(pcov[1,1]**0.5) )"
   ]
  },
  {
   "cell_type": "code",
   "execution_count": null,
   "metadata": {
    "collapsed": true
   },
   "outputs": [],
   "source": []
  },
  {
   "cell_type": "code",
   "execution_count": null,
   "metadata": {
    "collapsed": true
   },
   "outputs": [],
   "source": []
  }
 ],
 "metadata": {
  "anaconda-cloud": {},
  "kernelspec": {
   "display_name": "Python 3",
   "language": "python",
   "name": "python3"
  },
  "language_info": {
   "codemirror_mode": {
    "name": "ipython",
    "version": 3
   },
   "file_extension": ".py",
   "mimetype": "text/x-python",
   "name": "python",
   "nbconvert_exporter": "python",
   "pygments_lexer": "ipython3",
   "version": "3.6.1"
  }
 },
 "nbformat": 4,
 "nbformat_minor": 1
}
