{
 "cells": [
  {
   "cell_type": "code",
   "execution_count": 2,
   "metadata": {},
   "outputs": [
    {
     "name": "stdout",
     "output_type": "stream",
     "text": [
      "Populating the interactive namespace from numpy and matplotlib\n"
     ]
    }
   ],
   "source": [
    "%pylab inline"
   ]
  },
  {
   "cell_type": "code",
   "execution_count": null,
   "metadata": {
    "collapsed": true
   },
   "outputs": [],
   "source": []
  },
  {
   "cell_type": "code",
   "execution_count": 3,
   "metadata": {
    "collapsed": true
   },
   "outputs": [],
   "source": [
    "arrayS=(1/100)*array([[4.65,2.6],[4.35,2.45],[4.9,2.8],[6.1,3.4],[4.6,2.6],[4.1,2.25],[5.5,3.1],[3.8,2.15],[4.7,2.6],[4.95,2.9],[4.25,2.4],[5.35,3.15],[4.55,2.6],[3.8,2.15],[4,2.3],[6.1,3.5],[4.6,2.6]])#array([[large ring diameter, small ring diameter]]), m\n",
    "arrayV=array([3500,4000,3000,2000,3500,4500,2500,5000,3500,3000,4000,2500,3500,5000,4500,2000,3500]) #voltage arrays, Volts\n",
    "circ=41/100 #circumfrence of sphere, m\n",
    "arrayphi=arrayS*pi/(4*circ) #we foudn this relationship between the scattering angle, phi, the circumfrence of the sphere, and the angular diameter of the rings.\n"
   ]
  },
  {
   "cell_type": "markdown",
   "metadata": {},
   "source": [
    "\n",
    "### 1) de Broglie hypothesis check\n",
    "We want to show that our data are consistent with the de Broglie theory and Bragg's law. We do this by plotting momentum vs 1/sin(phi), where phi is the cattering angle, for each set of rings. If our data are consistent, we should get lines."
   ]
  },
  {
   "cell_type": "code",
   "execution_count": 4,
   "metadata": {},
   "outputs": [
    {
     "name": "stdout",
     "output_type": "stream",
     "text": [
      "plot momentum over 1/sin(phi)\n",
      "Large 1/sin(phi) correspond to smaller rings\n",
      "It gives us lines.\n"
     ]
    },
    {
     "data": {
      "image/png": "[encoded data removed]",
      "text/plain": [
       "<matplotlib.figure.Figure at 0x1099c1860>"
      ]
     },
     "metadata": {},
     "output_type": "display_data"
    }
   ],
   "source": [
    "print(\"plot momentum over 1/sin(phi)\")\n",
    "mec2=5.11*(10**5) #electron volts\n",
    "hc=1240 #electron volts times nanometers\n",
    "c=3.0*(10**8) #speed of light, m/s\n",
    "#e*V=arrayV when units are in electron volts\n",
    "Momentum=(((2*mec2*arrayV)**.5)/c)*1.602*(10**(-19)) #last product converts eV*s/m to J*s/m to get correct units \n",
    "\n",
    "\n",
    "plot(1/(sin(arrayphi)), Momentum) #plotting\n",
    "plt.xlabel(\"1/Sin(phi)\") #x label\n",
    "plt.ylabel(\"Momentum (J*s/m)\") #y label\n",
    "plt.title(\"Momentum vs. 1/sin(phi)\") #title\n",
    "print(\"Larger 1/sin(phi) correspond to smaller rings\")\n",
    "print(\"The plot is cleary giving two lines, so we can say that our data are consistent with Bragg's law and the de Broglie hypothesis\")\n",
    "#print(1/sin(phi))\n",
    "#print(4.65*pi/(4*circ))\n",
    "#print(phi)\n",
    "#print(1/sin(4.65*pi/(4*circ)))"
   ]
  },
  {
   "cell_type": "markdown",
   "metadata": {},
   "source": [
    "The plot is cleary giving two lines, so we can say that our data are consistent with Bragg's law and the de Broglie hypothesis"
   ]
  },
  {
   "cell_type": "code",
   "execution_count": 5,
   "metadata": {},
   "outputs": [
    {
     "name": "stdout",
     "output_type": "stream",
     "text": [
      "2\n",
      "We assumed that the structure of the carbon atoms in the crystal powder was that of a hexagonal lattice.\n",
      "We calculated from an arbitraty lattice with interatmoic spacing 'a' that the two largest plane spacings,\n",
      "d1 and d2, had values of sqrt(3)a/2 and 3a/2 respectively.\n",
      "Given a set of atomic s\n",
      "We found that d1 was 1.18163058837e-10 m  and d2 was 2.08254849016e-10 m\n",
      "we calculated d2/d1=sqrt(3)\n",
      "so we should get the same thing using our data and sin(phi1)/sin(phi2)\n",
      "We calculated the ratio to be 1.76266901496 with a standard deviation of 0.0308887612855\n",
      "The actual value is 1.7320508075688772 and our measured value is within 1 standard deviation, so we find agreement with the predicted hexagonal structure of graphite\n"
     ]
    }
   ],
   "source": [
    "print(\"2\")\n",
    "print(\"We assumed that the structure of the carbon atoms in the crystal powder was that of a hexagonal lattice.\")\n",
    "print(\"We calculated from an arbitraty lattice with interatmoic spacing 'a' that the two largest plane spacings,\")\n",
    "print(\"d1 and d2, had values of sqrt(3)a/2 and 3a/2 respectively.\")\n",
    "print(\"Given a set of atomic s\")\n",
    "phi1=arrayphi[:,0]#corresponds to phi for larger ring\n",
    "phi2=arrayphi[:,1]#corresponds to phi for smaller ring\n",
    "\n",
    "h=6.63*(10**(-34))#planck's constant, J*s\n",
    "wavelength=h/Momentum #equation for wavelength\n",
    "d1=wavelength/(2*sin(phi1))\n",
    "d2=wavelength/(2*sin(phi2))\n",
    "print(\"We found that d1 was\", average(d1), \"m  and d2 was\", average(d2), \"m\")\n",
    "#dratio=((sin(phi1))/(sin(phi2)))\n",
    "#remember that a smaller path length means a larger distance between interference maxima\n",
    "print(\"we calculated d2/d1=sqrt(3)\")\n",
    "#sin(phi1)/sin(phi2)\n",
    "print(\"so we should get the same thing using our data and sin(phi1)/sin(phi2)\")\n",
    "print(\"We calculated the ratio to be\", average(d2/d1), \"with a standard deviation of\", std(d2/d1))\n",
    "print(\"The actual value is\", 3**.5, \"and our measured value is within 1 standard deviation, so we find agreement with the predicted hexagonal structure of graphite\")\n",
    "#print(phi2)\n",
    "\n",
    "# confirmed print(average(d2/d1)-std(d2/d1))"
   ]
  },
  {
   "cell_type": "code",
   "execution_count": null,
   "metadata": {
    "collapsed": true
   },
   "outputs": [],
   "source": []
  },
  {
   "cell_type": "markdown",
   "metadata": {
    "collapsed": true
   },
   "source": [
    "### 3\n",
    "We calculated the two largest path differences of the interference pattern based on a hexagonal structure.\n",
    "In part 2 we found reasonable agreement with such a prediction.\n",
    "We now want to find the interatomic spacing between the atoms in the lattice. We can do this using our data."
   ]
  },
  {
   "cell_type": "code",
   "execution_count": 6,
   "metadata": {},
   "outputs": [
    {
     "name": "stdout",
     "output_type": "stream",
     "text": [
      "We found that a1= 1.36442947655e-10 m  with a standard deviation of 1.531162626e-12\n",
      "We found that a2= 1.38836566011e-10 m  with a standard deviation of 1.8081199817e-12\n",
      "Both of these values are within 1 standard deviation of each other\n",
      "So we can say that our final value would be the average of these two\n",
      "The average of the two values is 1.37639756833e-10 m  with a standard deviation of 1.16205803937e-12\n"
     ]
    }
   ],
   "source": [
    "a1=d1*2/(3**0.5) #value of the bond length based on d1\n",
    "a2=d2*2/3 #value of the bond length based on d2\n",
    "aavg=(a1+a2)/2\n",
    "#if we find that d1 and d2 are within a reasonable standard deviation of each other, then we have agreement on a range for the value for the value of the bond length\n",
    "print(\"We found that a1=\", average(a1), \"m  with a standard deviation of\", std(a1))\n",
    "print(\"We found that a2=\", average(a2), \"m  with a standard deviation of\", std(a2))\n",
    "print(\"Both of these values are within 1 standard deviation of each other\")\n",
    "print(\"So we can say that our final value would be the average of these two\")\n",
    "print(\"The average of the two values is\", average(aavg), \"m  with a standard deviation of\", std(aavg))"
   ]
  },
  {
   "cell_type": "markdown",
   "metadata": {},
   "source": [
    "### 4\n",
    "We should get a value for atomic spacing that is within 4 standard deviations (2 sigma) of the literature value of 1.42 angstroms = 1.42 x 10^-10  m\n",
    "(see http://hypertextbook.com/facts/2001/AliceWarrenGregory.shtml). If we were careful enough, we should have gotten a value within 1-2 percent of the literature value."
   ]
  },
  {
   "cell_type": "code",
   "execution_count": 9,
   "metadata": {},
   "outputs": [
    {
     "name": "stdout",
     "output_type": "stream",
     "text": [
      "We find that four standard deviations above our experimental result is = 1.42287988991e-10\n",
      "The standard error of our experimental result is 3.07059377949 percent less than the literature value\n"
     ]
    }
   ],
   "source": [
    "print(\"We find that four standard deviations above our experimental result is =\", average(aavg)+4*std(aavg))\n",
    "\n",
    "print(\"The standard error of our experimental result is\", 100*((1.42*(10**(-10)))-average(aavg))/(1.42*(10**(-10))), \"percent less than the literature value\")"
   ]
  },
  {
   "cell_type": "markdown",
   "metadata": {
    "collapsed": true
   },
   "source": [
    "Our error of ~3 percent is close enough to what we expected the error to be that there is one major possible contributor to that error. During our data collection, the magnet used to stabilize the incident beam fell off several times, and we did not restart our data collection but instead put the magnet back on and continued collecting data. This could have introduced more variance than would be present in the ideal experiment, not enough to make our data unusable but enough to increase the percent error by a small amount."
   ]
  }
 ],
 "metadata": {
  "kernelspec": {
   "display_name": "Python 3",
   "language": "python",
   "name": "python3"
  },
  "language_info": {
   "codemirror_mode": {
    "name": "ipython",
    "version": 3
   },
   "file_extension": ".py",
   "mimetype": "text/x-python",
   "name": "python",
   "nbconvert_exporter": "python",
   "pygments_lexer": "ipython3",
   "version": "3.6.1"
  }
 },
 "nbformat": 4,
 "nbformat_minor": 2
}
